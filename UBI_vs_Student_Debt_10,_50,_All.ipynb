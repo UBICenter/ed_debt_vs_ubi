{
  "nbformat": 4,
  "nbformat_minor": 0,
  "metadata": {
    "colab": {
      "name": "UBI vs Student Debt: 10, 50, All",
      "provenance": [],
      "collapsed_sections": [
        "sTavIRSZvN3R",
        "Kcl8UuXNZj4J"
      ]
    },
    "kernelspec": {
      "name": "python3",
      "display_name": "Python 3"
    }
  },
  "cells": [
    {
      "cell_type": "markdown",
      "metadata": {
        "id": "sTavIRSZvN3R"
      },
      "source": [
        "## Setup"
      ]
    },
    {
      "cell_type": "code",
      "metadata": {
        "id": "CZ9SMwnhrKXz",
        "outputId": "5a2b893a-4928-4653-88e7-0bd045fcd005",
        "colab": {
          "base_uri": "https://localhost:8080/"
        }
      },
      "source": [
        "# Install microdf\n",
        "!pip install git+https://github.com/PSLmodels/microdf.git\n",
        "!pip install git+https://github.com/MaxGhenis/scf.git"
      ],
      "execution_count": 1,
      "outputs": [
        {
          "output_type": "stream",
          "text": [
            "Collecting git+https://github.com/PSLmodels/microdf.git\n",
            "  Cloning https://github.com/PSLmodels/microdf.git to /tmp/pip-req-build-eqo2po57\n",
            "  Running command git clone -q https://github.com/PSLmodels/microdf.git /tmp/pip-req-build-eqo2po57\n",
            "Requirement already satisfied (use --upgrade to upgrade): microdf==0.2.0 from git+https://github.com/PSLmodels/microdf.git in /usr/local/lib/python3.6/dist-packages\n",
            "Requirement already satisfied: matplotlib in /usr/local/lib/python3.6/dist-packages (from microdf==0.2.0) (3.2.2)\n",
            "Requirement already satisfied: matplotlib-label-lines in /usr/local/lib/python3.6/dist-packages (from microdf==0.2.0) (0.3.8)\n",
            "Requirement already satisfied: numpy in /usr/local/lib/python3.6/dist-packages (from microdf==0.2.0) (1.18.5)\n",
            "Requirement already satisfied: pandas in /usr/local/lib/python3.6/dist-packages (from microdf==0.2.0) (1.1.4)\n",
            "Requirement already satisfied: seaborn in /usr/local/lib/python3.6/dist-packages (from microdf==0.2.0) (0.11.0)\n",
            "Requirement already satisfied: kiwisolver>=1.0.1 in /usr/local/lib/python3.6/dist-packages (from matplotlib->microdf==0.2.0) (1.3.1)\n",
            "Requirement already satisfied: pyparsing!=2.0.4,!=2.1.2,!=2.1.6,>=2.0.1 in /usr/local/lib/python3.6/dist-packages (from matplotlib->microdf==0.2.0) (2.4.7)\n",
            "Requirement already satisfied: cycler>=0.10 in /usr/local/lib/python3.6/dist-packages (from matplotlib->microdf==0.2.0) (0.10.0)\n",
            "Requirement already satisfied: python-dateutil>=2.1 in /usr/local/lib/python3.6/dist-packages (from matplotlib->microdf==0.2.0) (2.8.1)\n",
            "Requirement already satisfied: pytz>=2017.2 in /usr/local/lib/python3.6/dist-packages (from pandas->microdf==0.2.0) (2018.9)\n",
            "Requirement already satisfied: scipy>=1.0 in /usr/local/lib/python3.6/dist-packages (from seaborn->microdf==0.2.0) (1.4.1)\n",
            "Requirement already satisfied: six in /usr/local/lib/python3.6/dist-packages (from cycler>=0.10->matplotlib->microdf==0.2.0) (1.15.0)\n",
            "Building wheels for collected packages: microdf\n",
            "  Building wheel for microdf (setup.py) ... \u001b[?25l\u001b[?25hdone\n",
            "  Created wheel for microdf: filename=microdf-0.2.0-cp36-none-any.whl size=19884 sha256=de314085a69f1942014815306e49e2f2a0d9d98330e73867bdc68eea6a434489\n",
            "  Stored in directory: /tmp/pip-ephem-wheel-cache-cpvzjcm6/wheels/3d/53/af/92e56f83db191b0579d21e8385d61a92a502e66443b23c7e16\n",
            "Successfully built microdf\n",
            "Collecting git+https://github.com/MaxGhenis/scf.git\n",
            "  Cloning https://github.com/MaxGhenis/scf.git to /tmp/pip-req-build-2bdl31ez\n",
            "  Running command git clone -q https://github.com/MaxGhenis/scf.git /tmp/pip-req-build-2bdl31ez\n",
            "Requirement already satisfied (use --upgrade to upgrade): scf==0.1.0 from git+https://github.com/MaxGhenis/scf.git in /usr/local/lib/python3.6/dist-packages\n",
            "Requirement already satisfied: numpy in /usr/local/lib/python3.6/dist-packages (from scf==0.1.0) (1.18.5)\n",
            "Requirement already satisfied: pandas in /usr/local/lib/python3.6/dist-packages (from scf==0.1.0) (1.1.4)\n",
            "Requirement already satisfied: microdf in /usr/local/lib/python3.6/dist-packages (from scf==0.1.0) (0.2.0)\n",
            "Requirement already satisfied: pytz>=2017.2 in /usr/local/lib/python3.6/dist-packages (from pandas->scf==0.1.0) (2018.9)\n",
            "Requirement already satisfied: python-dateutil>=2.7.3 in /usr/local/lib/python3.6/dist-packages (from pandas->scf==0.1.0) (2.8.1)\n",
            "Requirement already satisfied: matplotlib-label-lines in /usr/local/lib/python3.6/dist-packages (from microdf->scf==0.1.0) (0.3.8)\n",
            "Requirement already satisfied: matplotlib in /usr/local/lib/python3.6/dist-packages (from microdf->scf==0.1.0) (3.2.2)\n",
            "Requirement already satisfied: seaborn in /usr/local/lib/python3.6/dist-packages (from microdf->scf==0.1.0) (0.11.0)\n",
            "Requirement already satisfied: six>=1.5 in /usr/local/lib/python3.6/dist-packages (from python-dateutil>=2.7.3->pandas->scf==0.1.0) (1.15.0)\n",
            "Requirement already satisfied: pyparsing!=2.0.4,!=2.1.2,!=2.1.6,>=2.0.1 in /usr/local/lib/python3.6/dist-packages (from matplotlib->microdf->scf==0.1.0) (2.4.7)\n",
            "Requirement already satisfied: kiwisolver>=1.0.1 in /usr/local/lib/python3.6/dist-packages (from matplotlib->microdf->scf==0.1.0) (1.3.1)\n",
            "Requirement already satisfied: cycler>=0.10 in /usr/local/lib/python3.6/dist-packages (from matplotlib->microdf->scf==0.1.0) (0.10.0)\n",
            "Requirement already satisfied: scipy>=1.0 in /usr/local/lib/python3.6/dist-packages (from seaborn->microdf->scf==0.1.0) (1.4.1)\n",
            "Building wheels for collected packages: scf\n",
            "  Building wheel for scf (setup.py) ... \u001b[?25l\u001b[?25hdone\n",
            "  Created wheel for scf: filename=scf-0.1.0-cp36-none-any.whl size=2189 sha256=f6d0dd8eb2aa8febf6c52fb0ee1667c112f65d3e1269b2930e0a82db972b10c5\n",
            "  Stored in directory: /tmp/pip-ephem-wheel-cache-nfymt6qv/wheels/cf/20/08/ce527280314aaf7b1b7dc4c9175b23bd9e8e0120187170c7ac\n",
            "Successfully built scf\n"
          ],
          "name": "stdout"
        }
      ]
    },
    {
      "cell_type": "code",
      "metadata": {
        "id": "dTNydWnurHiD"
      },
      "source": [
        "# Import libraries\n",
        "import pandas as pd\n",
        "import numpy as np\n",
        "import microdf as mdf\n",
        "import scf"
      ],
      "execution_count": 2,
      "outputs": []
    },
    {
      "cell_type": "code",
      "metadata": {
        "id": "sqcyYvOv8gqm"
      },
      "source": [
        "scf = mdf.read_stata_zip('https://www.federalreserve.gov/econres/files/scfp2019s.zip')\n",
        "detail = mdf.read_stata_zip('https://www.federalreserve.gov/econres/files/scf2019s.zip')"
      ],
      "execution_count": 3,
      "outputs": []
    },
    {
      "cell_type": "code",
      "metadata": {
        "id": "_q_nGCQo8-2A",
        "outputId": "4561238d-2065-41db-ac81-742488246b72",
        "colab": {
          "base_uri": "https://localhost:8080/"
        }
      },
      "source": [
        "scf['numextra'] = (detail.x6533 == 1) + (detail.x6534 == 1)"
      ],
      "execution_count": 4,
      "outputs": [
        {
          "output_type": "stream",
          "text": [
            "/usr/local/lib/python3.6/dist-packages/pandas/core/computation/expressions.py:204: UserWarning: evaluating in Python space because the '+' operator is not supported by numexpr for the bool dtype, use '|' instead\n",
            "  f\"evaluating in Python space because the {repr(op_str)} \"\n"
          ],
          "name": "stderr"
        }
      ]
    },
    {
      "cell_type": "code",
      "metadata": {
        "id": "It0aasbK9Doq"
      },
      "source": [
        "scf['numper'] = 1 + scf.famstruct.isin([4, 5]) + scf.kids + scf.numextra"
      ],
      "execution_count": 5,
      "outputs": []
    },
    {
      "cell_type": "code",
      "metadata": {
        "id": "mGY4S18gvAWB"
      },
      "source": [
        "scf['income_pp'] = scf.income / scf.numper\n",
        "scf['networth_pp'] = scf.networth / scf.numper\n",
        "# Weight households by amount of people\n",
        "scf['wgt_numper'] = scf.wgt * scf.numper"
      ],
      "execution_count": 6,
      "outputs": []
    },
    {
      "cell_type": "code",
      "metadata": {
        "id": "vVaoOMvBuNru",
        "outputId": "ca9a3f1b-5cef-4237-8996-51d65ce3d15f",
        "colab": {
          "base_uri": "https://localhost:8080/",
          "height": 0
        }
      },
      "source": [
        "# Income quintiles\n",
        "mdf.add_weighted_quantiles(scf, 'income_pp', 'wgt_numper')\n",
        "\n",
        "scf.drop(['income_pp_percentile', 'income_pp_2percentile',\n",
        "           'income_pp_ventile', 'income_pp_decile',\n",
        "           'income_pp_quartile'],\n",
        "          axis=1, inplace=True)\n",
        "\n",
        "scf.groupby('income_pp_quintile')[['wgt_numper']].sum()"
      ],
      "execution_count": 7,
      "outputs": [
        {
          "output_type": "execute_result",
          "data": {
            "text/html": [
              "<div>\n",
              "<style scoped>\n",
              "    .dataframe tbody tr th:only-of-type {\n",
              "        vertical-align: middle;\n",
              "    }\n",
              "\n",
              "    .dataframe tbody tr th {\n",
              "        vertical-align: top;\n",
              "    }\n",
              "\n",
              "    .dataframe thead th {\n",
              "        text-align: right;\n",
              "    }\n",
              "</style>\n",
              "<table border=\"1\" class=\"dataframe\">\n",
              "  <thead>\n",
              "    <tr style=\"text-align: right;\">\n",
              "      <th></th>\n",
              "      <th>wgt_numper</th>\n",
              "    </tr>\n",
              "    <tr>\n",
              "      <th>income_pp_quintile</th>\n",
              "      <th></th>\n",
              "    </tr>\n",
              "  </thead>\n",
              "  <tbody>\n",
              "    <tr>\n",
              "      <th>1</th>\n",
              "      <td>6.098401e+07</td>\n",
              "    </tr>\n",
              "    <tr>\n",
              "      <th>2</th>\n",
              "      <td>6.100444e+07</td>\n",
              "    </tr>\n",
              "    <tr>\n",
              "      <th>3</th>\n",
              "      <td>6.099144e+07</td>\n",
              "    </tr>\n",
              "    <tr>\n",
              "      <th>4</th>\n",
              "      <td>6.099438e+07</td>\n",
              "    </tr>\n",
              "    <tr>\n",
              "      <th>5</th>\n",
              "      <td>6.101400e+07</td>\n",
              "    </tr>\n",
              "  </tbody>\n",
              "</table>\n",
              "</div>"
            ],
            "text/plain": [
              "                      wgt_numper\n",
              "income_pp_quintile              \n",
              "1                   6.098401e+07\n",
              "2                   6.100444e+07\n",
              "3                   6.099144e+07\n",
              "4                   6.099438e+07\n",
              "5                   6.101400e+07"
            ]
          },
          "metadata": {
            "tags": []
          },
          "execution_count": 7
        }
      ]
    },
    {
      "cell_type": "code",
      "metadata": {
        "id": "a1G0a8I8uOlI",
        "outputId": "fbbede7b-3e95-48a4-a7d2-413a65faf2fa",
        "colab": {
          "base_uri": "https://localhost:8080/",
          "height": 0
        }
      },
      "source": [
        "# Networth quintiles\n",
        "mdf.add_weighted_quantiles(scf, 'networth_pp', 'wgt_numper')\n",
        "\n",
        "scf.drop(['networth_pp_percentile', 'networth_pp_2percentile',\n",
        "           'networth_pp_ventile', 'networth_pp_decile',\n",
        "           'networth_pp_quartile'],\n",
        "          axis=1, inplace=True)\n",
        "\n",
        "# combine 0 and 1\n",
        "scf['networth_pp_quintile2'] = np.where(scf.networth_pp_quintile < 2, 0, scf.networth_pp_quintile)\n",
        "scf.groupby('networth_pp_quintile2')[['wgt_numper']].sum()"
      ],
      "execution_count": 8,
      "outputs": [
        {
          "output_type": "execute_result",
          "data": {
            "text/html": [
              "<div>\n",
              "<style scoped>\n",
              "    .dataframe tbody tr th:only-of-type {\n",
              "        vertical-align: middle;\n",
              "    }\n",
              "\n",
              "    .dataframe tbody tr th {\n",
              "        vertical-align: top;\n",
              "    }\n",
              "\n",
              "    .dataframe thead th {\n",
              "        text-align: right;\n",
              "    }\n",
              "</style>\n",
              "<table border=\"1\" class=\"dataframe\">\n",
              "  <thead>\n",
              "    <tr style=\"text-align: right;\">\n",
              "      <th></th>\n",
              "      <th>wgt_numper</th>\n",
              "    </tr>\n",
              "    <tr>\n",
              "      <th>networth_pp_quintile2</th>\n",
              "      <th></th>\n",
              "    </tr>\n",
              "  </thead>\n",
              "  <tbody>\n",
              "    <tr>\n",
              "      <th>0</th>\n",
              "      <td>6.099631e+07</td>\n",
              "    </tr>\n",
              "    <tr>\n",
              "      <th>2</th>\n",
              "      <td>6.099471e+07</td>\n",
              "    </tr>\n",
              "    <tr>\n",
              "      <th>3</th>\n",
              "      <td>6.098782e+07</td>\n",
              "    </tr>\n",
              "    <tr>\n",
              "      <th>4</th>\n",
              "      <td>6.099198e+07</td>\n",
              "    </tr>\n",
              "    <tr>\n",
              "      <th>5</th>\n",
              "      <td>6.101745e+07</td>\n",
              "    </tr>\n",
              "  </tbody>\n",
              "</table>\n",
              "</div>"
            ],
            "text/plain": [
              "                         wgt_numper\n",
              "networth_pp_quintile2              \n",
              "0                      6.099631e+07\n",
              "2                      6.099471e+07\n",
              "3                      6.098782e+07\n",
              "4                      6.099198e+07\n",
              "5                      6.101745e+07"
            ]
          },
          "metadata": {
            "tags": []
          },
          "execution_count": 8
        }
      ]
    },
    {
      "cell_type": "code",
      "metadata": {
        "id": "So3zkMsluVs6"
      },
      "source": [
        "# Maybe rename?  '100th doesn't seem right way to name that\n",
        "scf['networth_pp_quintile2'] = scf['networth_pp_quintile2'].astype(str)\n",
        "scf['networth_pp_quintile2'].replace({'0': '0-20', '2': '20-40', '3': '40-60',\n",
        "                                   '4': '60-80', '5': '80-100'},inplace=True)\n",
        "\n",
        "scf['income_pp_quintile'] = scf['income_pp_quintile'].astype(str)\n",
        "scf['income_pp_quintile'].replace({'1': '0-20', '2': '20-40', '3': '40-60',\n",
        "                                   '4': '60-80', '5': '80-100'},inplace=True)"
      ],
      "execution_count": 9,
      "outputs": []
    },
    {
      "cell_type": "code",
      "metadata": {
        "id": "VAHVD1turOie"
      },
      "source": [
        "# Identify race codes\n",
        "scf['race'] = scf['race'].astype(str)\n",
        "scf['race'].replace({'1': 'White', '2':'Black',\n",
        "                     '3': 'Hispanic', '5': 'Other'},inplace=True)\n",
        "\n",
        "# Identify age codes\n",
        "scf['agecl'] = scf['agecl'].astype(str)\n",
        "scf['agecl'].replace({'1':'<35', '2': '35-44', '3': '45-54', '4':'55-64',\n",
        "                      '5':'65-74', '6':'>=75'},inplace=True)\n",
        "\n",
        "# Identify education level\n",
        "scf['edcl'] = scf['edcl'].astype(str)\n",
        "scf['edcl'].replace({'1': 'Less than high school diploma',\n",
        "                     '2':'High school diploma', '3': 'Some college',\n",
        "                     '4': 'College graduate'},inplace=True)"
      ],
      "execution_count": 10,
      "outputs": []
    },
    {
      "cell_type": "code",
      "metadata": {
        "id": "iG5xinL9-EcI",
        "outputId": "013c3c27-c039-475b-f7e4-ad8579c3da1b",
        "colab": {
          "base_uri": "https://localhost:8080/"
        }
      },
      "source": [
        "# Calculate estimated population\n",
        "population = (scf.numper * scf.wgt).sum()\n",
        "population / 1e6"
      ],
      "execution_count": 11,
      "outputs": [
        {
          "output_type": "execute_result",
          "data": {
            "text/plain": [
              "304.9882663276286"
            ]
          },
          "metadata": {
            "tags": []
          },
          "execution_count": 11
        }
      ]
    },
    {
      "cell_type": "code",
      "metadata": {
        "id": "mrArxMGi4Um6"
      },
      "source": [
        "scf['has_ed_debt'] = scf.edn_inst > 0\n",
        "scf['ed_debt_pp'] = scf.edn_inst / scf.numper"
      ],
      "execution_count": 12,
      "outputs": []
    },
    {
      "cell_type": "code",
      "metadata": {
        "id": "scIgjJ4rpCPs"
      },
      "source": [
        "scf['opm_pov_thresh'] = (np.where(scf.numper == 1, 12_490, \n",
        "                        np.where(scf.numper == 2, 16_910,\n",
        "                        np.where(scf.numper == 3, 21_330,\n",
        "                        np.where(scf.numper == 4, 25_750,\n",
        "                        np.where(scf.numper == 5, 30_170,\n",
        "                        np.where(scf.numper == 6, 34_590,\n",
        "                        np.where(scf.numper == 7, 39_010, 43_430))))))))"
      ],
      "execution_count": 13,
      "outputs": []
    },
    {
      "cell_type": "code",
      "metadata": {
        "id": "Ao4EC7WKpFyz",
        "outputId": "a837626b-c1e6-465d-ae91-c2e27d8dc133",
        "colab": {
          "base_uri": "https://localhost:8080/"
        }
      },
      "source": [
        "scf['original_poor'] = scf.income < scf.opm_pov_thresh\n",
        "total_poor = (scf.wgt_numper * scf.original_poor).sum()\n",
        "percent_poor = (total_poor / population * 100).round(1)\n",
        "percent_poor"
      ],
      "execution_count": 14,
      "outputs": [
        {
          "output_type": "execute_result",
          "data": {
            "text/plain": [
              "10.0"
            ]
          },
          "metadata": {
            "tags": []
          },
          "execution_count": 14
        }
      ]
    },
    {
      "cell_type": "markdown",
      "metadata": {
        "id": "kr6UrpqkvQyS"
      },
      "source": [
        "## Who holds student debt?"
      ]
    },
    {
      "cell_type": "code",
      "metadata": {
        "id": "JHCypuwv7xK2",
        "outputId": "226d922c-fb6e-4a90-f45d-b617749c29a4",
        "colab": {
          "base_uri": "https://localhost:8080/"
        }
      },
      "source": [
        "# Calculate total education debt \n",
        "total_student_debt = (scf.wgt * scf.edn_inst).sum()\n",
        "total_student_debt / 1e12"
      ],
      "execution_count": 15,
      "outputs": [
        {
          "output_type": "execute_result",
          "data": {
            "text/plain": [
              "1.1146904950337784"
            ]
          },
          "metadata": {
            "tags": []
          },
          "execution_count": 15
        }
      ]
    },
    {
      "cell_type": "code",
      "metadata": {
        "id": "Q10N6MCS5_Iv"
      },
      "source": [
        "all = pd.DataFrame([mdf.weighted_mean(scf, 'ed_debt_pp', 'wgt_numper'),\n",
        "                     mdf.weighted_sum(scf, 'has_ed_debt', 'wgt_numper'),\n",
        "                     mdf.weighted_sum(scf, 'wgt_numper'),\n",
        "                     mdf.weighted_sum(scf, 'ed_debt_pp', 'wgt_numper')],\n",
        "                     index=['mean_debt', 'has_debt', 'population', 'total_debt_held'])\n",
        "\n",
        "all = all.transpose()\n",
        "all['percent_has_debt'] = (all.has_debt / all.population * 100).round(1)\n",
        "all['percent_of_total_debt'] = all.total_debt_held / total_student_debt\n",
        "all['percent_pop'] = all.population / population\n",
        "all['ratio'] = (all.percent_of_total_debt / all.percent_pop).round(2)\n",
        "all['mean_debt'] = all['mean_debt'].astype(int)\n",
        "all = all.reset_index()"
      ],
      "execution_count": 16,
      "outputs": []
    },
    {
      "cell_type": "code",
      "metadata": {
        "id": "QWlLMPu9xHnW"
      },
      "source": [
        "# By race\n",
        "race = scf.groupby('race').apply(lambda x: pd.Series(\n",
        "    [mdf.weighted_mean(x, 'ed_debt_pp', 'wgt_numper'),\n",
        "     mdf.weighted_sum(x, 'has_ed_debt', 'wgt_numper'),\n",
        "     mdf.weighted_sum(x, 'wgt_numper'),\n",
        "     mdf.weighted_sum(x, 'ed_debt_pp', 'wgt_numper')],\n",
        "    index=['mean_debt', 'has_debt', 'population', 'total_debt_held']))\n",
        "\n",
        "race['percent_has_debt'] = (race.has_debt / race.population * 100).round(1)\n",
        "race['percent_of_total_debt'] = race.total_debt_held / total_student_debt\n",
        "race['percent_pop'] = race.population / population\n",
        "race['ratio'] = (race.percent_of_total_debt / race.percent_pop).round(2)\n",
        "race['mean_debt'] = race['mean_debt'].astype(int)\n",
        "\n",
        "race = race.reset_index()"
      ],
      "execution_count": 17,
      "outputs": []
    },
    {
      "cell_type": "code",
      "metadata": {
        "id": "vvEcODUVk-j7"
      },
      "source": [
        "# By Education Level\n",
        "education = scf.groupby('edcl').apply(lambda x: pd.Series(\n",
        "    [mdf.weighted_mean(x, 'ed_debt_pp', 'wgt_numper'),\n",
        "     mdf.weighted_sum(x, 'has_ed_debt', 'wgt_numper'),\n",
        "     mdf.weighted_sum(x, 'wgt_numper'),\n",
        "     mdf.weighted_sum(x, 'ed_debt_pp', 'wgt_numper')], \n",
        "    index=['mean_debt', 'has_debt', 'population', 'total_debt_held']))\n",
        "\n",
        "education['percent_has_debt'] = (education.has_debt / education.population * 100).round(1)\n",
        "education['percent_of_total_debt'] = education.total_debt_held / total_student_debt\n",
        "education['percent_pop'] = education.population / population\n",
        "education['ratio'] = (education.percent_of_total_debt / education.percent_pop).round(2)\n",
        "education['mean_debt'] = education['mean_debt'].astype(int)\n",
        "education = education.reset_index()"
      ],
      "execution_count": 18,
      "outputs": []
    },
    {
      "cell_type": "code",
      "metadata": {
        "id": "zqU-2gBInQtR"
      },
      "source": [
        "# By age Level\n",
        "age = scf.groupby('agecl').apply(lambda x: pd.Series(\n",
        "    [mdf.weighted_mean(x, 'ed_debt_pp', 'wgt_numper'),\n",
        "     mdf.weighted_sum(x, 'has_ed_debt', 'wgt_numper'),\n",
        "     mdf.weighted_sum(x, 'wgt_numper'),\n",
        "     mdf.weighted_sum(x, 'ed_debt_pp', 'wgt_numper')], \n",
        "    index=['mean_debt', 'has_debt', 'population', 'total_debt_held']))\n",
        "\n",
        "age['percent_has_debt'] = (age.has_debt / age.population * 100).round(1)\n",
        "age['percent_of_total_debt'] = age.total_debt_held / total_student_debt\n",
        "age['percent_pop'] = age.population / population\n",
        "age['ratio'] = (age.percent_of_total_debt / age.percent_pop).round(2)\n",
        "age['mean_debt'] = age['mean_debt'].astype(int)\n",
        "age = age.reset_index()"
      ],
      "execution_count": 19,
      "outputs": []
    },
    {
      "cell_type": "code",
      "metadata": {
        "id": "2tqiOcEFmsbw"
      },
      "source": [
        "# By income Level\n",
        "income = scf.groupby('income_pp_quintile').apply(lambda x: pd.Series(\n",
        "    [mdf.weighted_mean(x, 'ed_debt_pp', 'wgt_numper'),\n",
        "     mdf.weighted_sum(x, 'has_ed_debt', 'wgt_numper'),\n",
        "     mdf.weighted_sum(x, 'wgt_numper'),\n",
        "     mdf.weighted_sum(x, 'ed_debt_pp', 'wgt_numper')], \n",
        "    index=['mean_debt', 'has_debt', 'population', 'total_debt_held']))\n",
        "\n",
        "income['percent_has_debt'] = (income.has_debt / income.population * 100).round(1)\n",
        "income['percent_of_total_debt'] = income.total_debt_held / total_student_debt\n",
        "income['percent_pop'] = income.population / population\n",
        "income['ratio'] = (income.percent_of_total_debt / income.percent_pop).round(2)\n",
        "income['mean_debt'] = income['mean_debt'].astype(int)\n",
        "income = income.reset_index()"
      ],
      "execution_count": 20,
      "outputs": []
    },
    {
      "cell_type": "code",
      "metadata": {
        "id": "0p-kPQ3qnQgM"
      },
      "source": [
        "# By networth Level\n",
        "networth = scf.groupby('networth_pp_quintile2').apply(lambda x: pd.Series(\n",
        "    [mdf.weighted_mean(x, 'ed_debt_pp', 'wgt_numper'),\n",
        "     mdf.weighted_sum(x, 'has_ed_debt', 'wgt_numper'),\n",
        "     mdf.weighted_sum(x, 'wgt_numper'),\n",
        "     mdf.weighted_sum(x, 'ed_debt_pp', 'wgt_numper')], \n",
        "    index=['mean_debt', 'has_debt', 'population', 'total_debt_held']))\n",
        "\n",
        "networth['percent_has_debt'] = (networth.has_debt / networth.population * 100).round(1)\n",
        "networth['percent_of_total_debt'] = networth.total_debt_held / total_student_debt\n",
        "networth['percent_pop'] = networth.population / population\n",
        "networth['ratio'] = (networth.percent_of_total_debt / networth.percent_pop).round(2)\n",
        "networth['mean_debt'] = networth['mean_debt'].astype(int)\n",
        "networth = networth.reset_index()"
      ],
      "execution_count": 21,
      "outputs": []
    },
    {
      "cell_type": "code",
      "metadata": {
        "id": "HflrrYRmpSUe"
      },
      "source": [
        "# By poor Level\n",
        "poor = scf.groupby('original_poor').apply(lambda x: pd.Series(\n",
        "    [mdf.weighted_mean(x, 'ed_debt_pp', 'wgt_numper'),\n",
        "     mdf.weighted_sum(x, 'has_ed_debt', 'wgt_numper'),\n",
        "     mdf.weighted_sum(x, 'wgt_numper'),\n",
        "     mdf.weighted_sum(x, 'ed_debt_pp', 'wgt_numper')], \n",
        "    index=['mean_debt', 'has_debt', 'population', 'total_debt_held']))\n",
        "\n",
        "poor['percent_has_debt'] = (poor.has_debt / poor.population * 100).round(1)\n",
        "poor['percent_of_total_debt'] = poor.total_debt_held / total_student_debt\n",
        "poor['percent_pop'] = poor.population / population\n",
        "poor['ratio'] = (poor.percent_of_total_debt / poor.percent_pop).round(2)\n",
        "poor['mean_debt'] = poor['mean_debt'].astype(int)\n",
        "poor = poor.reset_index()"
      ],
      "execution_count": 22,
      "outputs": []
    },
    {
      "cell_type": "markdown",
      "metadata": {
        "id": "Kcl8UuXNZj4J"
      },
      "source": [
        "## Calculate"
      ]
    },
    {
      "cell_type": "code",
      "metadata": {
        "id": "2ZJG1suI8_bv"
      },
      "source": [
        "# Calculate new networth with eduction debt cancellation\n",
        "scf['new_networth_no_ed_debt'] = scf.networth + scf.edn_inst"
      ],
      "execution_count": 23,
      "outputs": []
    },
    {
      "cell_type": "code",
      "metadata": {
        "id": "zgPjAVqlA4nm",
        "outputId": "668bdb02-e162-450e-c4bf-2b1f4b452078",
        "colab": {
          "base_uri": "https://localhost:8080/"
        }
      },
      "source": [
        "# Calculate the ubi per person\n",
        "ubi = total_student_debt / population\n",
        "ubi"
      ],
      "execution_count": 24,
      "outputs": [
        {
          "output_type": "execute_result",
          "data": {
            "text/plain": [
              "3654.863541000428"
            ]
          },
          "metadata": {
            "tags": []
          },
          "execution_count": 24
        }
      ]
    },
    {
      "cell_type": "code",
      "metadata": {
        "id": "Xf-kGjR0AiUl"
      },
      "source": [
        "# Give each household their total UBI\n",
        "scf['total_ubi'] = ubi * scf.numper"
      ],
      "execution_count": 25,
      "outputs": []
    },
    {
      "cell_type": "code",
      "metadata": {
        "id": "jab6qEUc98LJ"
      },
      "source": [
        "# Calculate new networth with UBI\n",
        "scf['new_networth_ubi'] = scf.total_ubi + scf.networth"
      ],
      "execution_count": 26,
      "outputs": []
    },
    {
      "cell_type": "code",
      "metadata": {
        "id": "vpxi1llf_OZK"
      },
      "source": [
        "# Calculate per person\n",
        "scf['income_pp'] = scf.income / scf.numper\n",
        "scf['networth_pp'] = scf.networth / scf.numper\n",
        "\n",
        "scf['ubi_networth_pp'] = scf.networth_pp + ubi\n",
        "scf['no_debt_networth_pp'] = scf.networth_pp + scf.ed_debt_pp\n",
        "scf['ubi_income_pp'] = scf.income_pp + ubi\n",
        "scf['no_debt_income_pp'] = scf.income_pp + scf.ed_debt_pp"
      ],
      "execution_count": 27,
      "outputs": []
    },
    {
      "cell_type": "code",
      "metadata": {
        "id": "2pvx1lt_j6_2",
        "outputId": "ebfc2daf-ebbe-487c-82f0-46584ec96abb",
        "colab": {
          "base_uri": "https://localhost:8080/"
        }
      },
      "source": [
        "# Check to make sure reforms cost the same\n",
        "((scf.new_networth_no_ed_debt * scf.wgt).sum()) - ((scf.new_networth_ubi * scf.wgt).sum()) "
      ],
      "execution_count": 28,
      "outputs": [
        {
          "output_type": "execute_result",
          "data": {
            "text/plain": [
              "0.0"
            ]
          },
          "metadata": {
            "tags": []
          },
          "execution_count": 28
        }
      ]
    },
    {
      "cell_type": "code",
      "metadata": {
        "id": "cnq6WeGZOMQR"
      },
      "source": [
        "scf['over_50'] = scf.edn_inst - 50_000\n",
        "scf['over_50'] = np.where(scf.over_50 > 0, scf.over_50, 0)\n",
        "scf['difference_50'] = scf.edn_inst - scf.over_50\n",
        "scf['ed_debt_pp_50'] = scf.difference_50 / scf.numper"
      ],
      "execution_count": 29,
      "outputs": []
    },
    {
      "cell_type": "code",
      "metadata": {
        "id": "SGLQFtZLPP8g",
        "outputId": "bacf2501-abcf-4de6-a97d-02fc9006d761",
        "colab": {
          "base_uri": "https://localhost:8080/"
        }
      },
      "source": [
        "total_over_50 = (scf.over_50 * scf.wgt).sum()\n",
        "total_over_50 / 1e9"
      ],
      "execution_count": 30,
      "outputs": [
        {
          "output_type": "execute_result",
          "data": {
            "text/plain": [
              "401.7215621860863"
            ]
          },
          "metadata": {
            "tags": []
          },
          "execution_count": 30
        }
      ]
    },
    {
      "cell_type": "code",
      "metadata": {
        "id": "-dnOvkIKkiqj"
      },
      "source": [
        "# Calculate new networth with eduction debt cancellation 50k\n",
        "scf['new_networth_no_ed_debt_50'] = scf.networth + scf.difference_50"
      ],
      "execution_count": 31,
      "outputs": []
    },
    {
      "cell_type": "code",
      "metadata": {
        "id": "oV_peXb9JN_w",
        "outputId": "5d783380-8bb3-4753-9a9d-b158b91ebc56",
        "colab": {
          "base_uri": "https://localhost:8080/"
        }
      },
      "source": [
        "# Calculate the UBI per person\n",
        "total_under_50 = total_student_debt - total_over_50\n",
        "ubi_50 = total_under_50 / population\n",
        "ubi_50"
      ],
      "execution_count": 32,
      "outputs": [
        {
          "output_type": "execute_result",
          "data": {
            "text/plain": [
              "2337.692992037264"
            ]
          },
          "metadata": {
            "tags": []
          },
          "execution_count": 32
        }
      ]
    },
    {
      "cell_type": "code",
      "metadata": {
        "id": "wQPFeHwBk2r_"
      },
      "source": [
        "# Give each household their total  50k\n",
        "scf['total_ubi_50'] = ubi_50 * scf.numper"
      ],
      "execution_count": 33,
      "outputs": []
    },
    {
      "cell_type": "code",
      "metadata": {
        "id": "1zpFSCDCk8RY"
      },
      "source": [
        "# Calculate new networth with UBI 50k\n",
        "scf['new_networth_ubi_50'] = scf.total_ubi_50 + scf.networth"
      ],
      "execution_count": 34,
      "outputs": []
    },
    {
      "cell_type": "code",
      "metadata": {
        "id": "_mV9uJ2clEEl"
      },
      "source": [
        "scf['ubi_networth_pp_50'] = scf.networth_pp + ubi_50\n",
        "scf['no_debt_networth_pp_50'] = scf.networth_pp + scf.ed_debt_pp_50\n",
        "scf['ubi_income_pp_50'] = scf.income_pp + ubi_50\n",
        "scf['no_debt_income_pp_50'] = scf.income_pp + scf.ed_debt_pp_50"
      ],
      "execution_count": 35,
      "outputs": []
    },
    {
      "cell_type": "code",
      "metadata": {
        "id": "MNgqWxXPlRtf",
        "outputId": "82edf63b-8929-49d5-a831-a0a92932a5dd",
        "colab": {
          "base_uri": "https://localhost:8080/"
        }
      },
      "source": [
        "# Check to make sure reforms cost the same\n",
        "((scf.new_networth_no_ed_debt_50 * scf.wgt).sum()) - ((scf.new_networth_ubi_50 * scf.wgt).sum()) "
      ],
      "execution_count": 36,
      "outputs": [
        {
          "output_type": "execute_result",
          "data": {
            "text/plain": [
              "0.0"
            ]
          },
          "metadata": {
            "tags": []
          },
          "execution_count": 36
        }
      ]
    },
    {
      "cell_type": "code",
      "metadata": {
        "id": "AW2N2v65fVgr"
      },
      "source": [
        "scf['over_10'] = scf.edn_inst - 10_000\n",
        "scf['over_10'] = np.where(scf.over_10 > 0, scf.over_10, 0)\n",
        "scf['difference_10'] = scf.edn_inst - scf.over_10\n",
        "scf['ed_debt_pp_10'] = scf.difference_10 / scf.numper"
      ],
      "execution_count": 37,
      "outputs": []
    },
    {
      "cell_type": "code",
      "metadata": {
        "id": "yNcdy6gffgv_",
        "outputId": "94ad4246-006a-4883-8d70-e5a956d37133",
        "colab": {
          "base_uri": "https://localhost:8080/"
        }
      },
      "source": [
        "total_over_10 = (scf.over_10 * scf.wgt).sum()\n",
        "total_over_10 / 1e9"
      ],
      "execution_count": 38,
      "outputs": [
        {
          "output_type": "execute_result",
          "data": {
            "text/plain": [
              "879.4291895236232"
            ]
          },
          "metadata": {
            "tags": []
          },
          "execution_count": 38
        }
      ]
    },
    {
      "cell_type": "code",
      "metadata": {
        "id": "gYlS3-cSfnKG"
      },
      "source": [
        "# Calculate new networth with eduction debt cancellation 10k\n",
        "scf['new_networth_no_ed_debt_10'] = scf.networth + scf.difference_10"
      ],
      "execution_count": 39,
      "outputs": []
    },
    {
      "cell_type": "code",
      "metadata": {
        "id": "yhtJRXJBfr7i",
        "outputId": "20a4a3de-ff12-42d0-c83a-0c05567936ba",
        "colab": {
          "base_uri": "https://localhost:8080/"
        }
      },
      "source": [
        "# Calculate the UBI per person\n",
        "total_under_10 = total_student_debt - total_over_10\n",
        "ubi_10 = total_under_10 / population\n",
        "ubi_10"
      ],
      "execution_count": 40,
      "outputs": [
        {
          "output_type": "execute_result",
          "data": {
            "text/plain": [
              "771.3782183916203"
            ]
          },
          "metadata": {
            "tags": []
          },
          "execution_count": 40
        }
      ]
    },
    {
      "cell_type": "code",
      "metadata": {
        "id": "RjHbahxwfyQt"
      },
      "source": [
        "# Give each household their total  10k\n",
        "scf['total_ubi_10'] = ubi_10 * scf.numper"
      ],
      "execution_count": 41,
      "outputs": []
    },
    {
      "cell_type": "code",
      "metadata": {
        "id": "foRdbjLOf2sg"
      },
      "source": [
        "# Calculate new networth with UBI 50k\n",
        "scf['new_networth_ubi_10'] = scf.total_ubi_10 + scf.networth"
      ],
      "execution_count": 42,
      "outputs": []
    },
    {
      "cell_type": "code",
      "metadata": {
        "id": "RpeE1UZTf7ia"
      },
      "source": [
        "scf['ubi_networth_pp_10'] = scf.networth_pp + ubi_10\n",
        "scf['no_debt_networth_pp_10'] = scf.networth_pp + scf.ed_debt_pp_10\n",
        "scf['ubi_income_pp_10'] = scf.income_pp + ubi_10\n",
        "scf['no_debt_income_pp_10'] = scf.income_pp + scf.ed_debt_pp_10"
      ],
      "execution_count": 43,
      "outputs": []
    },
    {
      "cell_type": "code",
      "metadata": {
        "id": "XR9H8G2ygHxa",
        "outputId": "3d343631-5aac-4b36-c34d-cc87e40d5ebb",
        "colab": {
          "base_uri": "https://localhost:8080/"
        }
      },
      "source": [
        "# Check to make sure reforms cost the same\n",
        "((scf.new_networth_no_ed_debt_10 * scf.wgt).sum()) - ((scf.new_networth_ubi_10 * scf.wgt).sum()) "
      ],
      "execution_count": 44,
      "outputs": [
        {
          "output_type": "execute_result",
          "data": {
            "text/plain": [
              "0.0"
            ]
          },
          "metadata": {
            "tags": []
          },
          "execution_count": 44
        }
      ]
    },
    {
      "cell_type": "markdown",
      "metadata": {
        "id": "s3gO5cfdmAYF"
      },
      "source": [
        "## 50 Groupings"
      ]
    },
    {
      "cell_type": "code",
      "metadata": {
        "id": "G0cG5Ch0eb9v"
      },
      "source": [
        "def all_fun_50(index_num):\n",
        "  target_persons = scf.copy(deep=True)\n",
        "\n",
        "  # Calculate average benefit by reform\n",
        "  start = mdf.weighted_mean(target_persons, 'networth_pp', 'wgt_numper')\n",
        "  ed_debt = mdf.weighted_mean(target_persons, 'no_debt_networth_pp_50', 'wgt_numper')\n",
        "  ubi = mdf.weighted_mean(target_persons, 'ubi_networth_pp_50', 'wgt_numper')\n",
        "\n",
        "  ed_debt_change_50 = ed_debt - start\n",
        "  ubi_change_50 = ubi - start\n",
        "\n",
        "  # Calculate percent better off with ed debt cancellation\n",
        "  target_persons['better_with_ed_50'] = target_persons.ubi_networth_pp_50 < target_persons.no_debt_networth_pp_50\n",
        "  total_better_off_with_ed_50 = (target_persons.better_with_ed_50 * target_persons.wgt_numper).sum()\n",
        "  target_pop = target_persons.wgt_numper.sum()\n",
        "  percent_better_off_with_ed_50 = (total_better_off_with_ed_50 / target_pop * 100).round(1)\n",
        "\n",
        "  # Calculate percent out of debt\n",
        "  target_persons['initial_debt_50'] = target_persons.networth < 0\n",
        "  target_persons['ubi_debt_50'] = target_persons.ubi_networth_pp < 0\n",
        "  target_persons['no_ed_debt_debt_50'] = target_persons.no_debt_networth_pp < 0\n",
        "\n",
        "  percent_initial_debt_50 = (((target_persons.initial_debt_50 \n",
        "                           * target_persons.wgt_numper).sum()) / target_pop \n",
        "                          * 100).round(1)\n",
        "  percent_ubi_debt_50 = (((target_persons.ubi_debt_50 \n",
        "                           * target_persons.wgt_numper).sum()) / target_pop\n",
        "                      * 100).round(1)\n",
        "  percent_no_ed_debt_debt_50 = (((target_persons.no_ed_debt_debt_50 \n",
        "                           * target_persons.wgt_numper).sum()) / target_pop\n",
        "                           * 100).round(1)\n",
        "\n",
        "  # Calculate percent poor\n",
        "  total_original_poor_50 = (target_persons.original_poor * target_persons.wgt_numper).sum()\n",
        "  percent_original_poor_50 = (total_original_poor_50 / target_pop * 100).round(1)\n",
        "\n",
        "  target_persons['ubi_income_50'] = target_persons.total_ubi_50 + target_persons.income\n",
        "  target_persons['ubi_poor_50'] = target_persons.ubi_income_50 < target_persons.opm_pov_thresh\n",
        "  ubi_total_poor_50 = (target_persons.wgt_numper * target_persons.ubi_poor_50).sum()\n",
        "  ubi_percent_poor_50 = ubi_total_poor_50 / target_pop\n",
        "  percent_ubi_poor_50 = (ubi_percent_poor_50 * 100).round(1)\n",
        "\n",
        "  target_persons['ed_debt_income_50'] = target_persons.difference_50 + target_persons.income\n",
        "  target_persons['ed_debt_poor_50'] = target_persons.ed_debt_income_50 < target_persons.opm_pov_thresh\n",
        "  ed_debt_total_poor_50 = (target_persons.wgt_numper * target_persons.ed_debt_poor_50).sum()\n",
        "  ed_debt_percent_poor_50 = ed_debt_total_poor_50 / target_pop\n",
        "  percent_ed_debt_poor_50 = (ed_debt_percent_poor_50 * 100).round(1)\n",
        "\n",
        "  # Calculate poverty gap\n",
        "  target_persons['ubi_poverty_gap_50'] = target_persons.opm_pov_thresh - target_persons.ubi_income_50\n",
        "  ubi_gap_billions_50 = (((target_persons.ubi_poor_50 * target_persons.ubi_poverty_gap_50 * target_persons.wgt_numper).sum()) / 1e9).round(1)\n",
        "\n",
        "  target_persons['ed_debt_poverty_gap_50'] = target_persons.opm_pov_thresh - target_persons.ed_debt_income_50\n",
        "  ed_debt_gap_billions_50 = (((target_persons.ed_debt_poor_50 * target_persons.ed_debt_poverty_gap_50 * target_persons.wgt_numper).sum()) / 1e9).round(1)\n",
        "\n",
        "  # Convert and round\n",
        "  ed_debt_change_50 = ed_debt_change_50.astype(int)\n",
        "  ubi_change_50 = ubi_change_50.astype(int)\n",
        "\n",
        "  return pd.Series([ed_debt_change_50, ubi_change_50, percent_better_off_with_ed_50, \n",
        "                    percent_initial_debt_50, percent_ubi_debt_50, \n",
        "                    percent_no_ed_debt_debt_50, percent_ubi_poor_50, percent_ed_debt_poor_50,\n",
        "                    ubi_gap_billions_50, ed_debt_gap_billions_50])"
      ],
      "execution_count": 45,
      "outputs": []
    },
    {
      "cell_type": "code",
      "metadata": {
        "id": "9ZjZbDoghfWf"
      },
      "source": [
        "def all_row_50(row):\n",
        "  return all_fun_50(row.index)"
      ],
      "execution_count": 46,
      "outputs": []
    },
    {
      "cell_type": "code",
      "metadata": {
        "id": "CXU3NVRihmT0"
      },
      "source": [
        "all[['ed_debt_change_50', 'ubi_change_50', 'percent_better_off_with_ed_50',\n",
        "        'in_debt_50', 'in_debt_ubi_50', 'in_debt_no_ed_debt_50',\n",
        "      'percent_ubi_poor_50', 'percent_ed_debt_poor_50', \n",
        "     'ubi_gap_billions_50', 'ed_debt_gap_billions_50']] = all.apply(all_row_50, axis=1)"
      ],
      "execution_count": 47,
      "outputs": []
    },
    {
      "cell_type": "code",
      "metadata": {
        "id": "u6T2tdinqLFL"
      },
      "source": [
        "def race_fun_50(race):\n",
        "  target_persons = scf[scf.race==race].copy(deep=True)\n",
        "\n",
        "  # Calculate average benefit by reform\n",
        "  start = mdf.weighted_mean(target_persons, 'networth_pp', 'wgt_numper')\n",
        "  ed_debt = mdf.weighted_mean(target_persons, 'no_debt_networth_pp_50', 'wgt_numper')\n",
        "  ubi = mdf.weighted_mean(target_persons, 'ubi_networth_pp_50', 'wgt_numper')\n",
        "\n",
        "  ed_debt_change_50 = ed_debt - start\n",
        "  ubi_change_50 = ubi - start\n",
        "\n",
        "  # Calculate percent better off with ed debt cancellation\n",
        "  target_persons['better_with_ed_50'] = target_persons.ubi_networth_pp_50 < target_persons.no_debt_networth_pp_50\n",
        "  total_better_off_with_ed_50 = (target_persons.better_with_ed_50 * target_persons.wgt_numper).sum()\n",
        "  target_pop = target_persons.wgt_numper.sum()\n",
        "  percent_better_off_with_ed_50 = (total_better_off_with_ed_50 / target_pop * 100).round(1)\n",
        "\n",
        "  # Calculate percent out of debt\n",
        "  target_persons['initial_debt_50'] = target_persons.networth < 0\n",
        "  target_persons['ubi_debt_50'] = target_persons.ubi_networth_pp < 0\n",
        "  target_persons['no_ed_debt_debt_50'] = target_persons.no_debt_networth_pp < 0\n",
        "\n",
        "  percent_initial_debt_50 = (((target_persons.initial_debt_50 \n",
        "                           * target_persons.wgt_numper).sum()) / target_pop \n",
        "                          * 100).round(1)\n",
        "  percent_ubi_debt_50 = (((target_persons.ubi_debt_50 \n",
        "                           * target_persons.wgt_numper).sum()) / target_pop\n",
        "                      * 100).round(1)\n",
        "  percent_no_ed_debt_debt_50 = (((target_persons.no_ed_debt_debt_50 \n",
        "                           * target_persons.wgt_numper).sum()) / target_pop\n",
        "                           * 100).round(1)\n",
        "\n",
        "  # Calculate percent poor\n",
        "  total_original_poor_50 = (target_persons.original_poor * target_persons.wgt_numper).sum()\n",
        "  percent_original_poor_50 = (total_original_poor_50 / target_pop * 100).round(1)\n",
        "\n",
        "  target_persons['ubi_income_50'] = target_persons.total_ubi_50 + target_persons.income\n",
        "  target_persons['ubi_poor_50'] = target_persons.ubi_income_50 < target_persons.opm_pov_thresh\n",
        "  ubi_total_poor_50 = (target_persons.wgt_numper * target_persons.ubi_poor_50).sum()\n",
        "  ubi_percent_poor_50 = ubi_total_poor_50 / target_pop\n",
        "  percent_ubi_poor_50 = (ubi_percent_poor_50 * 100).round(1)\n",
        "\n",
        "  target_persons['ed_debt_income_50'] = target_persons.difference_50 + target_persons.income\n",
        "  target_persons['ed_debt_poor_50'] = target_persons.ed_debt_income_50 < target_persons.opm_pov_thresh\n",
        "  ed_debt_total_poor_50 = (target_persons.wgt_numper * target_persons.ed_debt_poor_50).sum()\n",
        "  ed_debt_percent_poor_50 = ed_debt_total_poor_50 / target_pop\n",
        "  percent_ed_debt_poor_50 = (ed_debt_percent_poor_50 * 100).round(1)\n",
        "\n",
        "  # Calculate poverty gap\n",
        "  target_persons['ubi_poverty_gap_50'] = target_persons.opm_pov_thresh - target_persons.ubi_income_50\n",
        "  ubi_gap_billions_50 = (((target_persons.ubi_poor_50 * target_persons.ubi_poverty_gap_50 * target_persons.wgt_numper).sum()) / 1e9).round(1)\n",
        "\n",
        "  target_persons['ed_debt_poverty_gap_50'] = target_persons.opm_pov_thresh - target_persons.ed_debt_income_50\n",
        "  ed_debt_gap_billions_50 = (((target_persons.ed_debt_poor_50 * target_persons.ed_debt_poverty_gap_50 * target_persons.wgt_numper).sum()) / 1e9).round(1)\n",
        "\n",
        "  # Convert and round\n",
        "  ed_debt_change_50 = ed_debt_change_50.astype(int)\n",
        "  ubi_change_50 = ubi_change_50.astype(int)\n",
        "\n",
        "  return pd.Series([ed_debt_change_50, ubi_change_50, percent_better_off_with_ed_50, \n",
        "                    percent_initial_debt_50, percent_ubi_debt_50, \n",
        "                    percent_no_ed_debt_debt_50, percent_ubi_poor_50, percent_ed_debt_poor_50,\n",
        "                    ubi_gap_billions_50, ed_debt_gap_billions_50])"
      ],
      "execution_count": 48,
      "outputs": []
    },
    {
      "cell_type": "code",
      "metadata": {
        "id": "pXZ0O7_VqWPE"
      },
      "source": [
        "def race_row_50(row):\n",
        "  return race_fun_50(row.race)"
      ],
      "execution_count": 49,
      "outputs": []
    },
    {
      "cell_type": "code",
      "metadata": {
        "id": "crrgvxH2qYYX"
      },
      "source": [
        "race[['ed_debt_change_50', 'ubi_change_50', 'percent_better_off_with_ed_50',\n",
        "        'in_debt_50', 'in_debt_ubi_50', 'in_debt_no_ed_debt_50',\n",
        "      'percent_ubi_poor_50', 'percent_ed_debt_poor_50', \n",
        "     'ubi_gap_billions_50', 'ed_debt_gap_billions_50']] = race.apply(race_row_50, axis=1)"
      ],
      "execution_count": 50,
      "outputs": []
    },
    {
      "cell_type": "code",
      "metadata": {
        "id": "qUPxhetmq2tj"
      },
      "source": [
        "def education_fun_50(edcl):\n",
        "  target_persons = scf[scf.edcl==edcl].copy(deep=True)\n",
        "\n",
        "  # Calculate average benefit by reform\n",
        "  start = mdf.weighted_mean(target_persons, 'networth_pp', 'wgt_numper')\n",
        "  ed_debt = mdf.weighted_mean(target_persons, 'no_debt_networth_pp_50', 'wgt_numper')\n",
        "  ubi = mdf.weighted_mean(target_persons, 'ubi_networth_pp_50', 'wgt_numper')\n",
        "\n",
        "  ed_debt_change_50 = ed_debt - start\n",
        "  ubi_change_50 = ubi - start\n",
        "\n",
        "  # Calculate percent better off with ed debt cancellation\n",
        "  target_persons['better_with_ed_50'] = target_persons.ubi_networth_pp_50 < target_persons.no_debt_networth_pp_50\n",
        "  total_better_off_with_ed_50 = (target_persons.better_with_ed_50 * target_persons.wgt_numper).sum()\n",
        "  target_pop = target_persons.wgt_numper.sum()\n",
        "  percent_better_off_with_ed_50 = (total_better_off_with_ed_50 / target_pop * 100).round(1)\n",
        "\n",
        "  # Calculate percent out of debt\n",
        "  target_persons['initial_debt_50'] = target_persons.networth < 0\n",
        "  target_persons['ubi_debt_50'] = target_persons.ubi_networth_pp < 0\n",
        "  target_persons['no_ed_debt_debt_50'] = target_persons.no_debt_networth_pp < 0\n",
        "\n",
        "  percent_initial_debt_50 = (((target_persons.initial_debt_50 \n",
        "                           * target_persons.wgt_numper).sum()) / target_pop \n",
        "                          * 100).round(1)\n",
        "  percent_ubi_debt_50 = (((target_persons.ubi_debt_50 \n",
        "                           * target_persons.wgt_numper).sum()) / target_pop\n",
        "                      * 100).round(1)\n",
        "  percent_no_ed_debt_debt_50 = (((target_persons.no_ed_debt_debt_50 \n",
        "                           * target_persons.wgt_numper).sum()) / target_pop\n",
        "                           * 100).round(1)\n",
        "\n",
        "  # Calculate percent poor\n",
        "  total_original_poor_50 = (target_persons.original_poor * target_persons.wgt_numper).sum()\n",
        "  percent_original_poor_50 = (total_original_poor_50 / target_pop * 100).round(1)\n",
        "\n",
        "  target_persons['ubi_income_50'] = target_persons.total_ubi_50 + target_persons.income\n",
        "  target_persons['ubi_poor_50'] = target_persons.ubi_income_50 < target_persons.opm_pov_thresh\n",
        "  ubi_total_poor_50 = (target_persons.wgt_numper * target_persons.ubi_poor_50).sum()\n",
        "  ubi_percent_poor_50 = ubi_total_poor_50 / target_pop\n",
        "  percent_ubi_poor_50 = (ubi_percent_poor_50 * 100).round(1)\n",
        "\n",
        "  target_persons['ed_debt_income_50'] = target_persons.difference_50 + target_persons.income\n",
        "  target_persons['ed_debt_poor_50'] = target_persons.ed_debt_income_50 < target_persons.opm_pov_thresh\n",
        "  ed_debt_total_poor_50 = (target_persons.wgt_numper * target_persons.ed_debt_poor_50).sum()\n",
        "  ed_debt_percent_poor_50 = ed_debt_total_poor_50 / target_pop\n",
        "  percent_ed_debt_poor_50 = (ed_debt_percent_poor_50 * 100).round(1)\n",
        "\n",
        "  # Calculate poverty gap\n",
        "  target_persons['ubi_poverty_gap_50'] = target_persons.opm_pov_thresh - target_persons.ubi_income_50\n",
        "  ubi_gap_billions_50 = (((target_persons.ubi_poor_50 * target_persons.ubi_poverty_gap_50 * target_persons.wgt_numper).sum()) / 1e9).round(1)\n",
        "\n",
        "  target_persons['ed_debt_poverty_gap_50'] = target_persons.opm_pov_thresh - target_persons.ed_debt_income_50\n",
        "  ed_debt_gap_billions_50 = (((target_persons.ed_debt_poor_50 * target_persons.ed_debt_poverty_gap_50 * target_persons.wgt_numper).sum()) / 1e9).round(1)\n",
        "\n",
        "  # Convert and round\n",
        "  ed_debt_change_50 = ed_debt_change_50.astype(int)\n",
        "  ubi_change_50 = ubi_change_50.astype(int)\n",
        "\n",
        "  return pd.Series([ed_debt_change_50, ubi_change_50, percent_better_off_with_ed_50, \n",
        "                    percent_initial_debt_50, percent_ubi_debt_50, \n",
        "                    percent_no_ed_debt_debt_50, percent_ubi_poor_50, percent_ed_debt_poor_50,\n",
        "                    ubi_gap_billions_50, ed_debt_gap_billions_50])"
      ],
      "execution_count": 51,
      "outputs": []
    },
    {
      "cell_type": "code",
      "metadata": {
        "id": "1sf7NVgOrHdG"
      },
      "source": [
        "def education_row_50(row):\n",
        "  return education_fun_50(row.edcl)"
      ],
      "execution_count": 52,
      "outputs": []
    },
    {
      "cell_type": "code",
      "metadata": {
        "id": "oDr-Wyf4rNPt"
      },
      "source": [
        "education[['ed_debt_change_50', 'ubi_change_50', 'percent_better_off_with_ed_50',\n",
        "        'in_debt_50', 'in_debt_ubi_50', 'in_debt_no_ed_debt_50',\n",
        "      'percent_ubi_poor_50', 'percent_ed_debt_poor_50', \n",
        "     'ubi_gap_billions_50', 'ed_debt_gap_billions_50']] = education.apply(education_row_50, axis=1)"
      ],
      "execution_count": 53,
      "outputs": []
    },
    {
      "cell_type": "code",
      "metadata": {
        "id": "q7rsxJnTrelW"
      },
      "source": [
        "def age_fun_50(agecl):\n",
        "  target_persons = scf[scf.agecl==agecl].copy(deep=True)\n",
        "\n",
        "  # Calculate average benefit by reform\n",
        "  start = mdf.weighted_mean(target_persons, 'networth_pp', 'wgt_numper')\n",
        "  ed_debt = mdf.weighted_mean(target_persons, 'no_debt_networth_pp_50', 'wgt_numper')\n",
        "  ubi = mdf.weighted_mean(target_persons, 'ubi_networth_pp_50', 'wgt_numper')\n",
        "\n",
        "  ed_debt_change_50 = ed_debt - start\n",
        "  ubi_change_50 = ubi - start\n",
        "\n",
        "  # Calculate percent better off with ed debt cancellation\n",
        "  target_persons['better_with_ed_50'] = target_persons.ubi_networth_pp_50 < target_persons.no_debt_networth_pp_50\n",
        "  total_better_off_with_ed_50 = (target_persons.better_with_ed_50 * target_persons.wgt_numper).sum()\n",
        "  target_pop = target_persons.wgt_numper.sum()\n",
        "  percent_better_off_with_ed_50 = (total_better_off_with_ed_50 / target_pop * 100).round(1)\n",
        "\n",
        "  # Calculate percent out of debt\n",
        "  target_persons['initial_debt_50'] = target_persons.networth < 0\n",
        "  target_persons['ubi_debt_50'] = target_persons.ubi_networth_pp < 0\n",
        "  target_persons['no_ed_debt_debt_50'] = target_persons.no_debt_networth_pp < 0\n",
        "\n",
        "  percent_initial_debt_50 = (((target_persons.initial_debt_50 \n",
        "                           * target_persons.wgt_numper).sum()) / target_pop \n",
        "                          * 100).round(1)\n",
        "  percent_ubi_debt_50 = (((target_persons.ubi_debt_50 \n",
        "                           * target_persons.wgt_numper).sum()) / target_pop\n",
        "                      * 100).round(1)\n",
        "  percent_no_ed_debt_debt_50 = (((target_persons.no_ed_debt_debt_50 \n",
        "                           * target_persons.wgt_numper).sum()) / target_pop\n",
        "                           * 100).round(1)\n",
        "\n",
        "  # Calculate percent poor\n",
        "  total_original_poor_50 = (target_persons.original_poor * target_persons.wgt_numper).sum()\n",
        "  percent_original_poor_50 = (total_original_poor_50 / target_pop * 100).round(1)\n",
        "\n",
        "  target_persons['ubi_income_50'] = target_persons.total_ubi_50 + target_persons.income\n",
        "  target_persons['ubi_poor_50'] = target_persons.ubi_income_50 < target_persons.opm_pov_thresh\n",
        "  ubi_total_poor_50 = (target_persons.wgt_numper * target_persons.ubi_poor_50).sum()\n",
        "  ubi_percent_poor_50 = ubi_total_poor_50 / target_pop\n",
        "  percent_ubi_poor_50 = (ubi_percent_poor_50 * 100).round(1)\n",
        "\n",
        "  target_persons['ed_debt_income_50'] = target_persons.difference_50 + target_persons.income\n",
        "  target_persons['ed_debt_poor_50'] = target_persons.ed_debt_income_50 < target_persons.opm_pov_thresh\n",
        "  ed_debt_total_poor_50 = (target_persons.wgt_numper * target_persons.ed_debt_poor_50).sum()\n",
        "  ed_debt_percent_poor_50 = ed_debt_total_poor_50 / target_pop\n",
        "  percent_ed_debt_poor_50 = (ed_debt_percent_poor_50 * 100).round(1)\n",
        "\n",
        "  # Calculate poverty gap\n",
        "  target_persons['ubi_poverty_gap_50'] = target_persons.opm_pov_thresh - target_persons.ubi_income_50\n",
        "  ubi_gap_billions_50 = (((target_persons.ubi_poor_50 * target_persons.ubi_poverty_gap_50 * target_persons.wgt_numper).sum()) / 1e9).round(1)\n",
        "\n",
        "  target_persons['ed_debt_poverty_gap_50'] = target_persons.opm_pov_thresh - target_persons.ed_debt_income_50\n",
        "  ed_debt_gap_billions_50 = (((target_persons.ed_debt_poor_50 * target_persons.ed_debt_poverty_gap_50 * target_persons.wgt_numper).sum()) / 1e9).round(1)\n",
        "\n",
        "  # Convert and round\n",
        "  ed_debt_change_50 = ed_debt_change_50.astype(int)\n",
        "  ubi_change_50 = ubi_change_50.astype(int)\n",
        "\n",
        "  return pd.Series([ed_debt_change_50, ubi_change_50, percent_better_off_with_ed_50, \n",
        "                    percent_initial_debt_50, percent_ubi_debt_50, \n",
        "                    percent_no_ed_debt_debt_50, percent_ubi_poor_50, percent_ed_debt_poor_50,\n",
        "                    ubi_gap_billions_50, ed_debt_gap_billions_50])"
      ],
      "execution_count": 54,
      "outputs": []
    },
    {
      "cell_type": "code",
      "metadata": {
        "id": "ilzSllbbr6Ck"
      },
      "source": [
        "def age_row_50(row):\n",
        "  return age_fun_50(row.agecl)"
      ],
      "execution_count": 55,
      "outputs": []
    },
    {
      "cell_type": "code",
      "metadata": {
        "id": "QuwfdH-7sG5Y"
      },
      "source": [
        "age[['ed_debt_change_50', 'ubi_change_50', 'percent_better_off_with_ed_50',\n",
        "        'in_debt_50', 'in_debt_ubi_50', 'in_debt_no_ed_debt_50',\n",
        "      'percent_ubi_poor_50', 'percent_ed_debt_poor_50', \n",
        "     'ubi_gap_billions_50', 'ed_debt_gap_billions_50']] = age.apply(age_row_50, axis=1)"
      ],
      "execution_count": 56,
      "outputs": []
    },
    {
      "cell_type": "code",
      "metadata": {
        "id": "FpormB0fs92g"
      },
      "source": [
        "def income_fun_50(income_pp_quintile):\n",
        "  target_persons = scf[scf.income_pp_quintile==income_pp_quintile].copy(deep=True)\n",
        "\n",
        "  # Calculate average benefit by reform\n",
        "  start = mdf.weighted_mean(target_persons, 'networth_pp', 'wgt_numper')\n",
        "  ed_debt = mdf.weighted_mean(target_persons, 'no_debt_networth_pp_50', 'wgt_numper')\n",
        "  ubi = mdf.weighted_mean(target_persons, 'ubi_networth_pp_50', 'wgt_numper')\n",
        "\n",
        "  ed_debt_change_50 = ed_debt - start\n",
        "  ubi_change_50 = ubi - start\n",
        "\n",
        "  # Calculate percent better off with ed debt cancellation\n",
        "  target_persons['better_with_ed_50'] = target_persons.ubi_networth_pp_50 < target_persons.no_debt_networth_pp_50\n",
        "  total_better_off_with_ed_50 = (target_persons.better_with_ed_50 * target_persons.wgt_numper).sum()\n",
        "  target_pop = target_persons.wgt_numper.sum()\n",
        "  percent_better_off_with_ed_50 = (total_better_off_with_ed_50 / target_pop * 100).round(1)\n",
        "\n",
        "  # Calculate percent out of debt\n",
        "  target_persons['initial_debt_50'] = target_persons.networth < 0\n",
        "  target_persons['ubi_debt_50'] = target_persons.ubi_networth_pp < 0\n",
        "  target_persons['no_ed_debt_debt_50'] = target_persons.no_debt_networth_pp < 0\n",
        "\n",
        "  percent_initial_debt_50 = (((target_persons.initial_debt_50 \n",
        "                           * target_persons.wgt_numper).sum()) / target_pop \n",
        "                          * 100).round(1)\n",
        "  percent_ubi_debt_50 = (((target_persons.ubi_debt_50 \n",
        "                           * target_persons.wgt_numper).sum()) / target_pop\n",
        "                      * 100).round(1)\n",
        "  percent_no_ed_debt_debt_50 = (((target_persons.no_ed_debt_debt_50 \n",
        "                           * target_persons.wgt_numper).sum()) / target_pop\n",
        "                           * 100).round(1)\n",
        "\n",
        "  # Calculate percent poor\n",
        "  total_original_poor_50 = (target_persons.original_poor * target_persons.wgt_numper).sum()\n",
        "  percent_original_poor_50 = (total_original_poor_50 / target_pop * 100).round(1)\n",
        "\n",
        "  target_persons['ubi_income_50'] = target_persons.total_ubi_50 + target_persons.income\n",
        "  target_persons['ubi_poor_50'] = target_persons.ubi_income_50 < target_persons.opm_pov_thresh\n",
        "  ubi_total_poor_50 = (target_persons.wgt_numper * target_persons.ubi_poor_50).sum()\n",
        "  ubi_percent_poor_50 = ubi_total_poor_50 / target_pop\n",
        "  percent_ubi_poor_50 = (ubi_percent_poor_50 * 100).round(1)\n",
        "\n",
        "  target_persons['ed_debt_income_50'] = target_persons.difference_50 + target_persons.income\n",
        "  target_persons['ed_debt_poor_50'] = target_persons.ed_debt_income_50 < target_persons.opm_pov_thresh\n",
        "  ed_debt_total_poor_50 = (target_persons.wgt_numper * target_persons.ed_debt_poor_50).sum()\n",
        "  ed_debt_percent_poor_50 = ed_debt_total_poor_50 / target_pop\n",
        "  percent_ed_debt_poor_50 = (ed_debt_percent_poor_50 * 100).round(1)\n",
        "\n",
        "  # Calculate poverty gap\n",
        "  target_persons['ubi_poverty_gap_50'] = target_persons.opm_pov_thresh - target_persons.ubi_income_50\n",
        "  ubi_gap_billions_50 = (((target_persons.ubi_poor_50 * target_persons.ubi_poverty_gap_50 * target_persons.wgt_numper).sum()) / 1e9).round(1)\n",
        "\n",
        "  target_persons['ed_debt_poverty_gap_50'] = target_persons.opm_pov_thresh - target_persons.ed_debt_income_50\n",
        "  ed_debt_gap_billions_50 = (((target_persons.ed_debt_poor_50 * target_persons.ed_debt_poverty_gap_50 * target_persons.wgt_numper).sum()) / 1e9).round(1)\n",
        "\n",
        "  # Convert and round\n",
        "  ed_debt_change_50 = ed_debt_change_50.astype(int)\n",
        "  ubi_change_50 = ubi_change_50.astype(int)\n",
        "\n",
        "  return pd.Series([ed_debt_change_50, ubi_change_50, percent_better_off_with_ed_50, \n",
        "                    percent_initial_debt_50, percent_ubi_debt_50, \n",
        "                    percent_no_ed_debt_debt_50, percent_ubi_poor_50, percent_ed_debt_poor_50,\n",
        "                    ubi_gap_billions_50, ed_debt_gap_billions_50])"
      ],
      "execution_count": 57,
      "outputs": []
    },
    {
      "cell_type": "code",
      "metadata": {
        "id": "adTCIsYosp4R"
      },
      "source": [
        "def income_row_50(row):\n",
        "  return income_fun_50(row.income_pp_quintile)"
      ],
      "execution_count": 58,
      "outputs": []
    },
    {
      "cell_type": "code",
      "metadata": {
        "id": "obL4XvDLsW7c"
      },
      "source": [
        "income[['ed_debt_change_50', 'ubi_change_50', 'percent_better_off_with_ed_50',\n",
        "        'in_debt_50', 'in_debt_ubi_50', 'in_debt_no_ed_debt_50',\n",
        "      'percent_ubi_poor_50', 'percent_ed_debt_poor_50', \n",
        "     'ubi_gap_billions_50', 'ed_debt_gap_billions_50']] = income.apply(income_row_50, axis=1)"
      ],
      "execution_count": 59,
      "outputs": []
    },
    {
      "cell_type": "code",
      "metadata": {
        "id": "Ip2cofdRtYil"
      },
      "source": [
        "def networth_fun_50(networth_pp_quintile2):\n",
        "  target_persons = scf[scf.networth_pp_quintile2==networth_pp_quintile2].copy(deep=True)\n",
        "\n",
        "  # Calculate average benefit by reform\n",
        "  start = mdf.weighted_mean(target_persons, 'networth_pp', 'wgt_numper')\n",
        "  ed_debt = mdf.weighted_mean(target_persons, 'no_debt_networth_pp_50', 'wgt_numper')\n",
        "  ubi = mdf.weighted_mean(target_persons, 'ubi_networth_pp_50', 'wgt_numper')\n",
        "\n",
        "  ed_debt_change_50 = ed_debt - start\n",
        "  ubi_change_50 = ubi - start\n",
        "\n",
        "  # Calculate percent better off with ed debt cancellation\n",
        "  target_persons['better_with_ed_50'] = target_persons.ubi_networth_pp_50 < target_persons.no_debt_networth_pp_50\n",
        "  total_better_off_with_ed_50 = (target_persons.better_with_ed_50 * target_persons.wgt_numper).sum()\n",
        "  target_pop = target_persons.wgt_numper.sum()\n",
        "  percent_better_off_with_ed_50 = (total_better_off_with_ed_50 / target_pop * 100).round(1)\n",
        "\n",
        "  # Calculate percent out of debt\n",
        "  target_persons['initial_debt_50'] = target_persons.networth < 0\n",
        "  target_persons['ubi_debt_50'] = target_persons.ubi_networth_pp < 0\n",
        "  target_persons['no_ed_debt_debt_50'] = target_persons.no_debt_networth_pp < 0\n",
        "\n",
        "  percent_initial_debt_50 = (((target_persons.initial_debt_50 \n",
        "                           * target_persons.wgt_numper).sum()) / target_pop \n",
        "                          * 100).round(1)\n",
        "  percent_ubi_debt_50 = (((target_persons.ubi_debt_50 \n",
        "                           * target_persons.wgt_numper).sum()) / target_pop\n",
        "                      * 100).round(1)\n",
        "  percent_no_ed_debt_debt_50 = (((target_persons.no_ed_debt_debt_50 \n",
        "                           * target_persons.wgt_numper).sum()) / target_pop\n",
        "                           * 100).round(1)\n",
        "\n",
        "  # Calculate percent poor\n",
        "  total_original_poor_50 = (target_persons.original_poor * target_persons.wgt_numper).sum()\n",
        "  percent_original_poor_50 = (total_original_poor_50 / target_pop * 100).round(1)\n",
        "\n",
        "  target_persons['ubi_income_50'] = target_persons.total_ubi_50 + target_persons.income\n",
        "  target_persons['ubi_poor_50'] = target_persons.ubi_income_50 < target_persons.opm_pov_thresh\n",
        "  ubi_total_poor_50 = (target_persons.wgt_numper * target_persons.ubi_poor_50).sum()\n",
        "  ubi_percent_poor_50 = ubi_total_poor_50 / target_pop\n",
        "  percent_ubi_poor_50 = (ubi_percent_poor_50 * 100).round(1)\n",
        "\n",
        "  target_persons['ed_debt_income_50'] = target_persons.difference_50 + target_persons.income\n",
        "  target_persons['ed_debt_poor_50'] = target_persons.ed_debt_income_50 < target_persons.opm_pov_thresh\n",
        "  ed_debt_total_poor_50 = (target_persons.wgt_numper * target_persons.ed_debt_poor_50).sum()\n",
        "  ed_debt_percent_poor_50 = ed_debt_total_poor_50 / target_pop\n",
        "  percent_ed_debt_poor_50 = (ed_debt_percent_poor_50 * 100).round(1)\n",
        "\n",
        "  # Calculate poverty gap\n",
        "  target_persons['ubi_poverty_gap_50'] = target_persons.opm_pov_thresh - target_persons.ubi_income_50\n",
        "  ubi_gap_billions_50 = (((target_persons.ubi_poor_50 * target_persons.ubi_poverty_gap_50 * target_persons.wgt_numper).sum()) / 1e9).round(1)\n",
        "\n",
        "  target_persons['ed_debt_poverty_gap_50'] = target_persons.opm_pov_thresh - target_persons.ed_debt_income_50\n",
        "  ed_debt_gap_billions_50 = (((target_persons.ed_debt_poor_50 * target_persons.ed_debt_poverty_gap_50 * target_persons.wgt_numper).sum()) / 1e9).round(1)\n",
        "\n",
        "  # Convert and round\n",
        "  ed_debt_change_50 = ed_debt_change_50.astype(int)\n",
        "  ubi_change_50 = ubi_change_50.astype(int)\n",
        "\n",
        "  return pd.Series([ed_debt_change_50, ubi_change_50, percent_better_off_with_ed_50, \n",
        "                    percent_initial_debt_50, percent_ubi_debt_50, \n",
        "                    percent_no_ed_debt_debt_50, percent_ubi_poor_50, percent_ed_debt_poor_50,\n",
        "                    ubi_gap_billions_50, ed_debt_gap_billions_50])"
      ],
      "execution_count": 60,
      "outputs": []
    },
    {
      "cell_type": "code",
      "metadata": {
        "id": "H6Sgf-cmtRKm"
      },
      "source": [
        "def networth_row_50(row):\n",
        "  return networth_fun_50(row.networth_pp_quintile2)"
      ],
      "execution_count": 61,
      "outputs": []
    },
    {
      "cell_type": "code",
      "metadata": {
        "id": "JqiZxwc_tLtM"
      },
      "source": [
        "networth[['ed_debt_change_50', 'ubi_change_50', 'percent_better_off_with_ed_50',\n",
        "        'in_debt_50', 'in_debt_ubi_50', 'in_debt_no_ed_debt_50',\n",
        "      'percent_ubi_poor_50', 'percent_ed_debt_poor_50', \n",
        "     'ubi_gap_billions_50', 'ed_debt_gap_billions_50']] = networth.apply(networth_row_50, axis=1)"
      ],
      "execution_count": 62,
      "outputs": []
    },
    {
      "cell_type": "code",
      "metadata": {
        "id": "jYAIIiqruS8E"
      },
      "source": [
        "def poor_fun_50(original_poor):\n",
        "  target_persons = scf[scf.original_poor==original_poor].copy(deep=True)\n",
        "\n",
        "  # Calculate average benefit by reform\n",
        "  start = mdf.weighted_mean(target_persons, 'networth_pp', 'wgt_numper')\n",
        "  ed_debt = mdf.weighted_mean(target_persons, 'no_debt_networth_pp_50', 'wgt_numper')\n",
        "  ubi = mdf.weighted_mean(target_persons, 'ubi_networth_pp_50', 'wgt_numper')\n",
        "\n",
        "  ed_debt_change_50 = ed_debt - start\n",
        "  ubi_change_50 = ubi - start\n",
        "\n",
        "  # Calculate percent better off with ed debt cancellation\n",
        "  target_persons['better_with_ed_50'] = target_persons.ubi_networth_pp_50 < target_persons.no_debt_networth_pp_50\n",
        "  total_better_off_with_ed_50 = (target_persons.better_with_ed_50 * target_persons.wgt_numper).sum()\n",
        "  target_pop = target_persons.wgt_numper.sum()\n",
        "  percent_better_off_with_ed_50 = (total_better_off_with_ed_50 / target_pop * 100).round(1)\n",
        "\n",
        "  # Calculate percent out of debt\n",
        "  target_persons['initial_debt_50'] = target_persons.networth < 0\n",
        "  target_persons['ubi_debt_50'] = target_persons.ubi_networth_pp < 0\n",
        "  target_persons['no_ed_debt_debt_50'] = target_persons.no_debt_networth_pp < 0\n",
        "\n",
        "  percent_initial_debt_50 = (((target_persons.initial_debt_50 \n",
        "                           * target_persons.wgt_numper).sum()) / target_pop \n",
        "                          * 100).round(1)\n",
        "  percent_ubi_debt_50 = (((target_persons.ubi_debt_50 \n",
        "                           * target_persons.wgt_numper).sum()) / target_pop\n",
        "                      * 100).round(1)\n",
        "  percent_no_ed_debt_debt_50 = (((target_persons.no_ed_debt_debt_50 \n",
        "                           * target_persons.wgt_numper).sum()) / target_pop\n",
        "                           * 100).round(1)\n",
        "\n",
        "  # Calculate percent poor\n",
        "  total_original_poor_50 = (target_persons.original_poor * target_persons.wgt_numper).sum()\n",
        "  percent_original_poor_50 = (total_original_poor_50 / target_pop * 100).round(1)\n",
        "\n",
        "  target_persons['ubi_income_50'] = target_persons.total_ubi_50 + target_persons.income\n",
        "  target_persons['ubi_poor_50'] = target_persons.ubi_income_50 < target_persons.opm_pov_thresh\n",
        "  ubi_total_poor_50 = (target_persons.wgt_numper * target_persons.ubi_poor_50).sum()\n",
        "  ubi_percent_poor_50 = ubi_total_poor_50 / target_pop\n",
        "  percent_ubi_poor_50 = (ubi_percent_poor_50 * 100).round(1)\n",
        "\n",
        "  target_persons['ed_debt_income_50'] = target_persons.difference_50 + target_persons.income\n",
        "  target_persons['ed_debt_poor_50'] = target_persons.ed_debt_income_50 < target_persons.opm_pov_thresh\n",
        "  ed_debt_total_poor_50 = (target_persons.wgt_numper * target_persons.ed_debt_poor_50).sum()\n",
        "  ed_debt_percent_poor_50 = ed_debt_total_poor_50 / target_pop\n",
        "  percent_ed_debt_poor_50 = (ed_debt_percent_poor_50 * 100).round(1)\n",
        "\n",
        "  # Calculate poverty gap\n",
        "  target_persons['ubi_poverty_gap_50'] = target_persons.opm_pov_thresh - target_persons.ubi_income_50\n",
        "  ubi_gap_billions_50 = (((target_persons.ubi_poor_50 * target_persons.ubi_poverty_gap_50 * target_persons.wgt_numper).sum()) / 1e9).round(1)\n",
        "\n",
        "  target_persons['ed_debt_poverty_gap_50'] = target_persons.opm_pov_thresh - target_persons.ed_debt_income_50\n",
        "  ed_debt_gap_billions_50 = (((target_persons.ed_debt_poor_50 * target_persons.ed_debt_poverty_gap_50 * target_persons.wgt_numper).sum()) / 1e9).round(1)\n",
        "\n",
        "  # Convert and round\n",
        "  ed_debt_change_50 = ed_debt_change_50.astype(int)\n",
        "  ubi_change_50 = ubi_change_50.astype(int)\n",
        "\n",
        "  return pd.Series([ed_debt_change_50, ubi_change_50, percent_better_off_with_ed_50, \n",
        "                    percent_initial_debt_50, percent_ubi_debt_50, \n",
        "                    percent_no_ed_debt_debt_50, percent_ubi_poor_50, percent_ed_debt_poor_50,\n",
        "                    ubi_gap_billions_50, ed_debt_gap_billions_50])"
      ],
      "execution_count": 63,
      "outputs": []
    },
    {
      "cell_type": "code",
      "metadata": {
        "id": "stTBeCnyuGs1"
      },
      "source": [
        "def poor_row_50(row):\n",
        "  return poor_fun_50(row.original_poor)"
      ],
      "execution_count": 64,
      "outputs": []
    },
    {
      "cell_type": "code",
      "metadata": {
        "id": "gqVIRfWmuAfG"
      },
      "source": [
        "poor[['ed_debt_change_50', 'ubi_change_50', 'percent_better_off_with_ed_50',\n",
        "        'in_debt_50', 'in_debt_ubi_50', 'in_debt_no_ed_debt_50',\n",
        "      'percent_ubi_poor_50', 'percent_ed_debt_poor_50', \n",
        "     'ubi_gap_billions_50', 'ed_debt_gap_billions_50']] = poor.apply(poor_row_50, axis=1)"
      ],
      "execution_count": 65,
      "outputs": []
    },
    {
      "cell_type": "code",
      "metadata": {
        "id": "xrfKW8Obgm6x"
      },
      "source": [
        ""
      ],
      "execution_count": 65,
      "outputs": []
    },
    {
      "cell_type": "markdown",
      "metadata": {
        "id": "q9zVY4osgnZj"
      },
      "source": [
        "## 10 Groupings"
      ]
    },
    {
      "cell_type": "code",
      "metadata": {
        "id": "CQ8oT3FvgnZn"
      },
      "source": [
        "def all_fun_10(index_num):\n",
        "  target_persons = scf.copy(deep=True)\n",
        "\n",
        "  # Calculate average benefit by reform\n",
        "  start = mdf.weighted_mean(target_persons, 'networth_pp', 'wgt_numper')\n",
        "  ed_debt = mdf.weighted_mean(target_persons, 'no_debt_networth_pp_10', 'wgt_numper')\n",
        "  ubi = mdf.weighted_mean(target_persons, 'ubi_networth_pp_10', 'wgt_numper')\n",
        "\n",
        "  ed_debt_change_10 = ed_debt - start\n",
        "  ubi_change_10 = ubi - start\n",
        "\n",
        "  # Calculate percent better off with ed debt cancellation\n",
        "  target_persons['better_with_ed_10'] = target_persons.ubi_networth_pp_10 < target_persons.no_debt_networth_pp_10\n",
        "  total_better_off_with_ed_10 = (target_persons.better_with_ed_10 * target_persons.wgt_numper).sum()\n",
        "  target_pop = target_persons.wgt_numper.sum()\n",
        "  percent_better_off_with_ed_10 = (total_better_off_with_ed_10 / target_pop * 100).round(1)\n",
        "\n",
        "  # Calculate percent out of debt\n",
        "  target_persons['initial_debt_10'] = target_persons.networth < 0\n",
        "  target_persons['ubi_debt_10'] = target_persons.ubi_networth_pp < 0\n",
        "  target_persons['no_ed_debt_debt_10'] = target_persons.no_debt_networth_pp < 0\n",
        "\n",
        "  percent_initial_debt_10 = (((target_persons.initial_debt_10 \n",
        "                           * target_persons.wgt_numper).sum()) / target_pop \n",
        "                          * 100).round(1)\n",
        "  percent_ubi_debt_10 = (((target_persons.ubi_debt_10 \n",
        "                           * target_persons.wgt_numper).sum()) / target_pop\n",
        "                      * 100).round(1)\n",
        "  percent_no_ed_debt_debt_10 = (((target_persons.no_ed_debt_debt_10 \n",
        "                           * target_persons.wgt_numper).sum()) / target_pop\n",
        "                           * 100).round(1)\n",
        "\n",
        "  # Calculate percent poor\n",
        "  total_original_poor_10 = (target_persons.original_poor * target_persons.wgt_numper).sum()\n",
        "  percent_original_poor_10 = (total_original_poor_10 / target_pop * 100).round(1)\n",
        "\n",
        "  target_persons['ubi_income_10'] = target_persons.total_ubi_10 + target_persons.income\n",
        "  target_persons['ubi_poor_10'] = target_persons.ubi_income_10 < target_persons.opm_pov_thresh\n",
        "  ubi_total_poor_10 = (target_persons.wgt_numper * target_persons.ubi_poor_10).sum()\n",
        "  ubi_percent_poor_10 = ubi_total_poor_10 / target_pop\n",
        "  percent_ubi_poor_10 = (ubi_percent_poor_10 * 100).round(1)\n",
        "\n",
        "  target_persons['ed_debt_income_10'] = target_persons.difference_10 + target_persons.income\n",
        "  target_persons['ed_debt_poor_10'] = target_persons.ed_debt_income_10 < target_persons.opm_pov_thresh\n",
        "  ed_debt_total_poor_10 = (target_persons.wgt_numper * target_persons.ed_debt_poor_10).sum()\n",
        "  ed_debt_percent_poor_10 = ed_debt_total_poor_10 / target_pop\n",
        "  percent_ed_debt_poor_10 = (ed_debt_percent_poor_10 * 100).round(1)\n",
        "\n",
        "  # Calculate poverty gap\n",
        "  target_persons['ubi_poverty_gap_10'] = target_persons.opm_pov_thresh - target_persons.ubi_income_10\n",
        "  ubi_gap_billions_10 = (((target_persons.ubi_poor_10 * target_persons.ubi_poverty_gap_10 * target_persons.wgt_numper).sum()) / 1e9).round(1)\n",
        "\n",
        "  target_persons['ed_debt_poverty_gap_10'] = target_persons.opm_pov_thresh - target_persons.ed_debt_income_10\n",
        "  ed_debt_gap_billions_10 = (((target_persons.ed_debt_poor_10 * target_persons.ed_debt_poverty_gap_10 * target_persons.wgt_numper).sum()) / 1e9).round(1)\n",
        "\n",
        "  # Convert and round\n",
        "  ed_debt_change_10 = ed_debt_change_10.astype(int)\n",
        "  ubi_change_10 = ubi_change_10.astype(int)\n",
        "\n",
        "  return pd.Series([ed_debt_change_10, ubi_change_10, percent_better_off_with_ed_10, \n",
        "                    percent_initial_debt_10, percent_ubi_debt_10, \n",
        "                    percent_no_ed_debt_debt_10, percent_ubi_poor_10, percent_ed_debt_poor_10,\n",
        "                    ubi_gap_billions_10, ed_debt_gap_billions_10])"
      ],
      "execution_count": 66,
      "outputs": []
    },
    {
      "cell_type": "code",
      "metadata": {
        "id": "5Lg1x-bAgnZ3"
      },
      "source": [
        "def all_row_10(row):\n",
        "  return all_fun_10(row.index)"
      ],
      "execution_count": 67,
      "outputs": []
    },
    {
      "cell_type": "code",
      "metadata": {
        "id": "tt2CLclUgnaA"
      },
      "source": [
        "all[['ed_debt_change_10', 'ubi_change_10', 'percent_better_off_with_ed_10',\n",
        "        'in_debt_10', 'in_debt_ubi_10', 'in_debt_no_ed_debt_10',\n",
        "      'percent_ubi_poor_10', 'percent_ed_debt_poor_10', \n",
        "     'ubi_gap_billions_10', 'ed_debt_gap_billions_10']] = all.apply(all_row_10, axis=1)"
      ],
      "execution_count": 68,
      "outputs": []
    },
    {
      "cell_type": "code",
      "metadata": {
        "id": "oxxYTMPagnaH"
      },
      "source": [
        "def race_fun_10(race):\n",
        "  target_persons = scf[scf.race==race].copy(deep=True)\n",
        "\n",
        "  # Calculate average benefit by reform\n",
        "  start = mdf.weighted_mean(target_persons, 'networth_pp', 'wgt_numper')\n",
        "  ed_debt = mdf.weighted_mean(target_persons, 'no_debt_networth_pp_10', 'wgt_numper')\n",
        "  ubi = mdf.weighted_mean(target_persons, 'ubi_networth_pp_10', 'wgt_numper')\n",
        "\n",
        "  ed_debt_change_10 = ed_debt - start\n",
        "  ubi_change_10 = ubi - start\n",
        "\n",
        "  # Calculate percent better off with ed debt cancellation\n",
        "  target_persons['better_with_ed_10'] = target_persons.ubi_networth_pp_10 < target_persons.no_debt_networth_pp_10\n",
        "  total_better_off_with_ed_10 = (target_persons.better_with_ed_10 * target_persons.wgt_numper).sum()\n",
        "  target_pop = target_persons.wgt_numper.sum()\n",
        "  percent_better_off_with_ed_10 = (total_better_off_with_ed_10 / target_pop * 100).round(1)\n",
        "\n",
        "  # Calculate percent out of debt\n",
        "  target_persons['initial_debt_10'] = target_persons.networth < 0\n",
        "  target_persons['ubi_debt_10'] = target_persons.ubi_networth_pp < 0\n",
        "  target_persons['no_ed_debt_debt_10'] = target_persons.no_debt_networth_pp < 0\n",
        "\n",
        "  percent_initial_debt_10 = (((target_persons.initial_debt_10 \n",
        "                           * target_persons.wgt_numper).sum()) / target_pop \n",
        "                          * 100).round(1)\n",
        "  percent_ubi_debt_10 = (((target_persons.ubi_debt_10 \n",
        "                           * target_persons.wgt_numper).sum()) / target_pop\n",
        "                      * 100).round(1)\n",
        "  percent_no_ed_debt_debt_10 = (((target_persons.no_ed_debt_debt_10 \n",
        "                           * target_persons.wgt_numper).sum()) / target_pop\n",
        "                           * 100).round(1)\n",
        "\n",
        "  # Calculate percent poor\n",
        "  total_original_poor_10 = (target_persons.original_poor * target_persons.wgt_numper).sum()\n",
        "  percent_original_poor_10 = (total_original_poor_10 / target_pop * 100).round(1)\n",
        "\n",
        "  target_persons['ubi_income_10'] = target_persons.total_ubi_10 + target_persons.income\n",
        "  target_persons['ubi_poor_10'] = target_persons.ubi_income_10 < target_persons.opm_pov_thresh\n",
        "  ubi_total_poor_10 = (target_persons.wgt_numper * target_persons.ubi_poor_10).sum()\n",
        "  ubi_percent_poor_10 = ubi_total_poor_10 / target_pop\n",
        "  percent_ubi_poor_10 = (ubi_percent_poor_10 * 100).round(1)\n",
        "\n",
        "  target_persons['ed_debt_income_10'] = target_persons.difference_10 + target_persons.income\n",
        "  target_persons['ed_debt_poor_10'] = target_persons.ed_debt_income_10 < target_persons.opm_pov_thresh\n",
        "  ed_debt_total_poor_10 = (target_persons.wgt_numper * target_persons.ed_debt_poor_10).sum()\n",
        "  ed_debt_percent_poor_10 = ed_debt_total_poor_10 / target_pop\n",
        "  percent_ed_debt_poor_10 = (ed_debt_percent_poor_10 * 100).round(1)\n",
        "\n",
        "  # Calculate poverty gap\n",
        "  target_persons['ubi_poverty_gap_10'] = target_persons.opm_pov_thresh - target_persons.ubi_income_10\n",
        "  ubi_gap_billions_10 = (((target_persons.ubi_poor_10 * target_persons.ubi_poverty_gap_10 * target_persons.wgt_numper).sum()) / 1e9).round(1)\n",
        "\n",
        "  target_persons['ed_debt_poverty_gap_10'] = target_persons.opm_pov_thresh - target_persons.ed_debt_income_10\n",
        "  ed_debt_gap_billions_10 = (((target_persons.ed_debt_poor_10 * target_persons.ed_debt_poverty_gap_10 * target_persons.wgt_numper).sum()) / 1e9).round(1)\n",
        "\n",
        "  # Convert and round\n",
        "  ed_debt_change_10 = ed_debt_change_10.astype(int)\n",
        "  ubi_change_10 = ubi_change_10.astype(int)\n",
        "\n",
        "  return pd.Series([ed_debt_change_10, ubi_change_10, percent_better_off_with_ed_10, \n",
        "                    percent_initial_debt_10, percent_ubi_debt_10, \n",
        "                    percent_no_ed_debt_debt_10, percent_ubi_poor_10, percent_ed_debt_poor_10,\n",
        "                    ubi_gap_billions_10, ed_debt_gap_billions_10])"
      ],
      "execution_count": 69,
      "outputs": []
    },
    {
      "cell_type": "code",
      "metadata": {
        "id": "4x4RQmHGgnaQ"
      },
      "source": [
        "def race_row_10(row):\n",
        "  return race_fun_10(row.race)"
      ],
      "execution_count": 70,
      "outputs": []
    },
    {
      "cell_type": "code",
      "metadata": {
        "id": "giybAS7_gnaX"
      },
      "source": [
        "race[['ed_debt_change_10', 'ubi_change_10', 'percent_better_off_with_ed_10',\n",
        "        'in_debt_10', 'in_debt_ubi_10', 'in_debt_no_ed_debt_10',\n",
        "      'percent_ubi_poor_10', 'percent_ed_debt_poor_10', \n",
        "     'ubi_gap_billions_10', 'ed_debt_gap_billions_10']] = race.apply(race_row_10, axis=1)"
      ],
      "execution_count": 71,
      "outputs": []
    },
    {
      "cell_type": "code",
      "metadata": {
        "id": "14VS6ghignab"
      },
      "source": [
        "def education_fun_10(edcl):\n",
        "  target_persons = scf[scf.edcl==edcl].copy(deep=True)\n",
        "\n",
        "  # Calculate average benefit by reform\n",
        "  start = mdf.weighted_mean(target_persons, 'networth_pp', 'wgt_numper')\n",
        "  ed_debt = mdf.weighted_mean(target_persons, 'no_debt_networth_pp_10', 'wgt_numper')\n",
        "  ubi = mdf.weighted_mean(target_persons, 'ubi_networth_pp_10', 'wgt_numper')\n",
        "\n",
        "  ed_debt_change_10 = ed_debt - start\n",
        "  ubi_change_10 = ubi - start\n",
        "\n",
        "  # Calculate percent better off with ed debt cancellation\n",
        "  target_persons['better_with_ed_10'] = target_persons.ubi_networth_pp_10 < target_persons.no_debt_networth_pp_10\n",
        "  total_better_off_with_ed_10 = (target_persons.better_with_ed_10 * target_persons.wgt_numper).sum()\n",
        "  target_pop = target_persons.wgt_numper.sum()\n",
        "  percent_better_off_with_ed_10 = (total_better_off_with_ed_10 / target_pop * 100).round(1)\n",
        "\n",
        "  # Calculate percent out of debt\n",
        "  target_persons['initial_debt_10'] = target_persons.networth < 0\n",
        "  target_persons['ubi_debt_10'] = target_persons.ubi_networth_pp < 0\n",
        "  target_persons['no_ed_debt_debt_10'] = target_persons.no_debt_networth_pp < 0\n",
        "\n",
        "  percent_initial_debt_10 = (((target_persons.initial_debt_10 \n",
        "                           * target_persons.wgt_numper).sum()) / target_pop \n",
        "                          * 100).round(1)\n",
        "  percent_ubi_debt_10 = (((target_persons.ubi_debt_10 \n",
        "                           * target_persons.wgt_numper).sum()) / target_pop\n",
        "                      * 100).round(1)\n",
        "  percent_no_ed_debt_debt_10 = (((target_persons.no_ed_debt_debt_10 \n",
        "                           * target_persons.wgt_numper).sum()) / target_pop\n",
        "                           * 100).round(1)\n",
        "\n",
        "  # Calculate percent poor\n",
        "  total_original_poor_10 = (target_persons.original_poor * target_persons.wgt_numper).sum()\n",
        "  percent_original_poor_10 = (total_original_poor_10 / target_pop * 100).round(1)\n",
        "\n",
        "  target_persons['ubi_income_10'] = target_persons.total_ubi_10 + target_persons.income\n",
        "  target_persons['ubi_poor_10'] = target_persons.ubi_income_10 < target_persons.opm_pov_thresh\n",
        "  ubi_total_poor_10 = (target_persons.wgt_numper * target_persons.ubi_poor_10).sum()\n",
        "  ubi_percent_poor_10 = ubi_total_poor_10 / target_pop\n",
        "  percent_ubi_poor_10 = (ubi_percent_poor_10 * 100).round(1)\n",
        "\n",
        "  target_persons['ed_debt_income_10'] = target_persons.difference_10 + target_persons.income\n",
        "  target_persons['ed_debt_poor_10'] = target_persons.ed_debt_income_10 < target_persons.opm_pov_thresh\n",
        "  ed_debt_total_poor_10 = (target_persons.wgt_numper * target_persons.ed_debt_poor_10).sum()\n",
        "  ed_debt_percent_poor_10 = ed_debt_total_poor_10 / target_pop\n",
        "  percent_ed_debt_poor_10 = (ed_debt_percent_poor_10 * 100).round(1)\n",
        "\n",
        "  # Calculate poverty gap\n",
        "  target_persons['ubi_poverty_gap_10'] = target_persons.opm_pov_thresh - target_persons.ubi_income_10\n",
        "  ubi_gap_billions_10 = (((target_persons.ubi_poor_10 * target_persons.ubi_poverty_gap_10 * target_persons.wgt_numper).sum()) / 1e9).round(1)\n",
        "\n",
        "  target_persons['ed_debt_poverty_gap_10'] = target_persons.opm_pov_thresh - target_persons.ed_debt_income_10\n",
        "  ed_debt_gap_billions_10 = (((target_persons.ed_debt_poor_10 * target_persons.ed_debt_poverty_gap_10 * target_persons.wgt_numper).sum()) / 1e9).round(1)\n",
        "\n",
        "  # Convert and round\n",
        "  ed_debt_change_10 = ed_debt_change_10.astype(int)\n",
        "  ubi_change_10 = ubi_change_10.astype(int)\n",
        "\n",
        "  return pd.Series([ed_debt_change_10, ubi_change_10, percent_better_off_with_ed_10, \n",
        "                    percent_initial_debt_10, percent_ubi_debt_10, \n",
        "                    percent_no_ed_debt_debt_10, percent_ubi_poor_10, percent_ed_debt_poor_10,\n",
        "                    ubi_gap_billions_10, ed_debt_gap_billions_10])"
      ],
      "execution_count": 72,
      "outputs": []
    },
    {
      "cell_type": "code",
      "metadata": {
        "id": "tykzcrYjgnaf"
      },
      "source": [
        "def education_row_10(row):\n",
        "  return education_fun_10(row.edcl)"
      ],
      "execution_count": 73,
      "outputs": []
    },
    {
      "cell_type": "code",
      "metadata": {
        "id": "bCGn-GW1gnai"
      },
      "source": [
        "education[['ed_debt_change_10', 'ubi_change_10', 'percent_better_off_with_ed_10',\n",
        "        'in_debt_10', 'in_debt_ubi_10', 'in_debt_no_ed_debt_10',\n",
        "      'percent_ubi_poor_10', 'percent_ed_debt_poor_10', \n",
        "     'ubi_gap_billions_10', 'ed_debt_gap_billions_10']] = education.apply(education_row_10, axis=1)"
      ],
      "execution_count": 74,
      "outputs": []
    },
    {
      "cell_type": "code",
      "metadata": {
        "id": "E0OSxJczgnam"
      },
      "source": [
        "def age_fun_10(agecl):\n",
        "  target_persons = scf[scf.agecl==agecl].copy(deep=True)\n",
        "\n",
        "  # Calculate average benefit by reform\n",
        "  start = mdf.weighted_mean(target_persons, 'networth_pp', 'wgt_numper')\n",
        "  ed_debt = mdf.weighted_mean(target_persons, 'no_debt_networth_pp_10', 'wgt_numper')\n",
        "  ubi = mdf.weighted_mean(target_persons, 'ubi_networth_pp_10', 'wgt_numper')\n",
        "\n",
        "  ed_debt_change_10 = ed_debt - start\n",
        "  ubi_change_10 = ubi - start\n",
        "\n",
        "  # Calculate percent better off with ed debt cancellation\n",
        "  target_persons['better_with_ed_10'] = target_persons.ubi_networth_pp_10 < target_persons.no_debt_networth_pp_10\n",
        "  total_better_off_with_ed_10 = (target_persons.better_with_ed_10 * target_persons.wgt_numper).sum()\n",
        "  target_pop = target_persons.wgt_numper.sum()\n",
        "  percent_better_off_with_ed_10 = (total_better_off_with_ed_10 / target_pop * 100).round(1)\n",
        "\n",
        "  # Calculate percent out of debt\n",
        "  target_persons['initial_debt_10'] = target_persons.networth < 0\n",
        "  target_persons['ubi_debt_10'] = target_persons.ubi_networth_pp < 0\n",
        "  target_persons['no_ed_debt_debt_10'] = target_persons.no_debt_networth_pp < 0\n",
        "\n",
        "  percent_initial_debt_10 = (((target_persons.initial_debt_10 \n",
        "                           * target_persons.wgt_numper).sum()) / target_pop \n",
        "                          * 100).round(1)\n",
        "  percent_ubi_debt_10 = (((target_persons.ubi_debt_10 \n",
        "                           * target_persons.wgt_numper).sum()) / target_pop\n",
        "                      * 100).round(1)\n",
        "  percent_no_ed_debt_debt_10 = (((target_persons.no_ed_debt_debt_10 \n",
        "                           * target_persons.wgt_numper).sum()) / target_pop\n",
        "                           * 100).round(1)\n",
        "\n",
        "  # Calculate percent poor\n",
        "  total_original_poor_10 = (target_persons.original_poor * target_persons.wgt_numper).sum()\n",
        "  percent_original_poor_10 = (total_original_poor_10 / target_pop * 100).round(1)\n",
        "\n",
        "  target_persons['ubi_income_10'] = target_persons.total_ubi_10 + target_persons.income\n",
        "  target_persons['ubi_poor_10'] = target_persons.ubi_income_10 < target_persons.opm_pov_thresh\n",
        "  ubi_total_poor_10 = (target_persons.wgt_numper * target_persons.ubi_poor_10).sum()\n",
        "  ubi_percent_poor_10 = ubi_total_poor_10 / target_pop\n",
        "  percent_ubi_poor_10 = (ubi_percent_poor_10 * 100).round(1)\n",
        "\n",
        "  target_persons['ed_debt_income_10'] = target_persons.difference_10 + target_persons.income\n",
        "  target_persons['ed_debt_poor_10'] = target_persons.ed_debt_income_10 < target_persons.opm_pov_thresh\n",
        "  ed_debt_total_poor_10 = (target_persons.wgt_numper * target_persons.ed_debt_poor_10).sum()\n",
        "  ed_debt_percent_poor_10 = ed_debt_total_poor_10 / target_pop\n",
        "  percent_ed_debt_poor_10 = (ed_debt_percent_poor_10 * 100).round(1)\n",
        "\n",
        "  # Calculate poverty gap\n",
        "  target_persons['ubi_poverty_gap_10'] = target_persons.opm_pov_thresh - target_persons.ubi_income_10\n",
        "  ubi_gap_billions_10 = (((target_persons.ubi_poor_10 * target_persons.ubi_poverty_gap_10 * target_persons.wgt_numper).sum()) / 1e9).round(1)\n",
        "\n",
        "  target_persons['ed_debt_poverty_gap_10'] = target_persons.opm_pov_thresh - target_persons.ed_debt_income_10\n",
        "  ed_debt_gap_billions_10 = (((target_persons.ed_debt_poor_10 * target_persons.ed_debt_poverty_gap_10 * target_persons.wgt_numper).sum()) / 1e9).round(1)\n",
        "\n",
        "  # Convert and round\n",
        "  ed_debt_change_10 = ed_debt_change_10.astype(int)\n",
        "  ubi_change_10 = ubi_change_10.astype(int)\n",
        "\n",
        "  return pd.Series([ed_debt_change_10, ubi_change_10, percent_better_off_with_ed_10, \n",
        "                    percent_initial_debt_10, percent_ubi_debt_10, \n",
        "                    percent_no_ed_debt_debt_10, percent_ubi_poor_10, percent_ed_debt_poor_10,\n",
        "                    ubi_gap_billions_10, ed_debt_gap_billions_10])"
      ],
      "execution_count": 75,
      "outputs": []
    },
    {
      "cell_type": "code",
      "metadata": {
        "id": "7Xv8v2g9gnaq"
      },
      "source": [
        "def age_row_10(row):\n",
        "  return age_fun_10(row.agecl)"
      ],
      "execution_count": 76,
      "outputs": []
    },
    {
      "cell_type": "code",
      "metadata": {
        "id": "3-Ru6pNagnas"
      },
      "source": [
        "age[['ed_debt_change_10', 'ubi_change_10', 'percent_better_off_with_ed_10',\n",
        "        'in_debt_10', 'in_debt_ubi_10', 'in_debt_no_ed_debt_10',\n",
        "      'percent_ubi_poor_10', 'percent_ed_debt_poor_10', \n",
        "     'ubi_gap_billions_10', 'ed_debt_gap_billions_10']] = age.apply(age_row_10, axis=1)"
      ],
      "execution_count": 77,
      "outputs": []
    },
    {
      "cell_type": "code",
      "metadata": {
        "id": "8xuyykqXgnav"
      },
      "source": [
        "def income_fun_10(income_pp_quintile):\n",
        "  target_persons = scf[scf.income_pp_quintile==income_pp_quintile].copy(deep=True)\n",
        "\n",
        "  # Calculate average benefit by reform\n",
        "  start = mdf.weighted_mean(target_persons, 'networth_pp', 'wgt_numper')\n",
        "  ed_debt = mdf.weighted_mean(target_persons, 'no_debt_networth_pp_10', 'wgt_numper')\n",
        "  ubi = mdf.weighted_mean(target_persons, 'ubi_networth_pp_10', 'wgt_numper')\n",
        "\n",
        "  ed_debt_change_10 = ed_debt - start\n",
        "  ubi_change_10 = ubi - start\n",
        "\n",
        "  # Calculate percent better off with ed debt cancellation\n",
        "  target_persons['better_with_ed_10'] = target_persons.ubi_networth_pp_10 < target_persons.no_debt_networth_pp_10\n",
        "  total_better_off_with_ed_10 = (target_persons.better_with_ed_10 * target_persons.wgt_numper).sum()\n",
        "  target_pop = target_persons.wgt_numper.sum()\n",
        "  percent_better_off_with_ed_10 = (total_better_off_with_ed_10 / target_pop * 100).round(1)\n",
        "\n",
        "  # Calculate percent out of debt\n",
        "  target_persons['initial_debt_10'] = target_persons.networth < 0\n",
        "  target_persons['ubi_debt_10'] = target_persons.ubi_networth_pp < 0\n",
        "  target_persons['no_ed_debt_debt_10'] = target_persons.no_debt_networth_pp < 0\n",
        "\n",
        "  percent_initial_debt_10 = (((target_persons.initial_debt_10 \n",
        "                           * target_persons.wgt_numper).sum()) / target_pop \n",
        "                          * 100).round(1)\n",
        "  percent_ubi_debt_10 = (((target_persons.ubi_debt_10 \n",
        "                           * target_persons.wgt_numper).sum()) / target_pop\n",
        "                      * 100).round(1)\n",
        "  percent_no_ed_debt_debt_10 = (((target_persons.no_ed_debt_debt_10 \n",
        "                           * target_persons.wgt_numper).sum()) / target_pop\n",
        "                           * 100).round(1)\n",
        "\n",
        "  # Calculate percent poor\n",
        "  total_original_poor_10 = (target_persons.original_poor * target_persons.wgt_numper).sum()\n",
        "  percent_original_poor_10 = (total_original_poor_10 / target_pop * 100).round(1)\n",
        "\n",
        "  target_persons['ubi_income_10'] = target_persons.total_ubi_10 + target_persons.income\n",
        "  target_persons['ubi_poor_10'] = target_persons.ubi_income_10 < target_persons.opm_pov_thresh\n",
        "  ubi_total_poor_10 = (target_persons.wgt_numper * target_persons.ubi_poor_10).sum()\n",
        "  ubi_percent_poor_10 = ubi_total_poor_10 / target_pop\n",
        "  percent_ubi_poor_10 = (ubi_percent_poor_10 * 100).round(1)\n",
        "\n",
        "  target_persons['ed_debt_income_10'] = target_persons.difference_10 + target_persons.income\n",
        "  target_persons['ed_debt_poor_10'] = target_persons.ed_debt_income_10 < target_persons.opm_pov_thresh\n",
        "  ed_debt_total_poor_10 = (target_persons.wgt_numper * target_persons.ed_debt_poor_10).sum()\n",
        "  ed_debt_percent_poor_10 = ed_debt_total_poor_10 / target_pop\n",
        "  percent_ed_debt_poor_10 = (ed_debt_percent_poor_10 * 100).round(1)\n",
        "\n",
        "  # Calculate poverty gap\n",
        "  target_persons['ubi_poverty_gap_10'] = target_persons.opm_pov_thresh - target_persons.ubi_income_10\n",
        "  ubi_gap_billions_10 = (((target_persons.ubi_poor_10 * target_persons.ubi_poverty_gap_10 * target_persons.wgt_numper).sum()) / 1e9).round(1)\n",
        "\n",
        "  target_persons['ed_debt_poverty_gap_10'] = target_persons.opm_pov_thresh - target_persons.ed_debt_income_10\n",
        "  ed_debt_gap_billions_10 = (((target_persons.ed_debt_poor_10 * target_persons.ed_debt_poverty_gap_10 * target_persons.wgt_numper).sum()) / 1e9).round(1)\n",
        "\n",
        "  # Convert and round\n",
        "  ed_debt_change_10 = ed_debt_change_10.astype(int)\n",
        "  ubi_change_10 = ubi_change_10.astype(int)\n",
        "\n",
        "  return pd.Series([ed_debt_change_10, ubi_change_10, percent_better_off_with_ed_10, \n",
        "                    percent_initial_debt_10, percent_ubi_debt_10, \n",
        "                    percent_no_ed_debt_debt_10, percent_ubi_poor_10, percent_ed_debt_poor_10,\n",
        "                    ubi_gap_billions_10, ed_debt_gap_billions_10])"
      ],
      "execution_count": 78,
      "outputs": []
    },
    {
      "cell_type": "code",
      "metadata": {
        "id": "1XVIZ2Fzgnax"
      },
      "source": [
        "def income_row_10(row):\n",
        "  return income_fun_10(row.income_pp_quintile)"
      ],
      "execution_count": 79,
      "outputs": []
    },
    {
      "cell_type": "code",
      "metadata": {
        "id": "NEHfL-iugna0"
      },
      "source": [
        "income[['ed_debt_change_10', 'ubi_change_10', 'percent_better_off_with_ed_10',\n",
        "        'in_debt_10', 'in_debt_ubi_10', 'in_debt_no_ed_debt_10',\n",
        "      'percent_ubi_poor_10', 'percent_ed_debt_poor_10', \n",
        "     'ubi_gap_billions_10', 'ed_debt_gap_billions_10']] = income.apply(income_row_10, axis=1)"
      ],
      "execution_count": 80,
      "outputs": []
    },
    {
      "cell_type": "code",
      "metadata": {
        "id": "iCdHc3rigna2"
      },
      "source": [
        "def networth_fun_10(networth_pp_quintile2):\n",
        "  target_persons = scf[scf.networth_pp_quintile2==networth_pp_quintile2].copy(deep=True)\n",
        "\n",
        "  # Calculate average benefit by reform\n",
        "  start = mdf.weighted_mean(target_persons, 'networth_pp', 'wgt_numper')\n",
        "  ed_debt = mdf.weighted_mean(target_persons, 'no_debt_networth_pp_10', 'wgt_numper')\n",
        "  ubi = mdf.weighted_mean(target_persons, 'ubi_networth_pp_10', 'wgt_numper')\n",
        "\n",
        "  ed_debt_change_10 = ed_debt - start\n",
        "  ubi_change_10 = ubi - start\n",
        "\n",
        "  # Calculate percent better off with ed debt cancellation\n",
        "  target_persons['better_with_ed_10'] = target_persons.ubi_networth_pp_10 < target_persons.no_debt_networth_pp_10\n",
        "  total_better_off_with_ed_10 = (target_persons.better_with_ed_10 * target_persons.wgt_numper).sum()\n",
        "  target_pop = target_persons.wgt_numper.sum()\n",
        "  percent_better_off_with_ed_10 = (total_better_off_with_ed_10 / target_pop * 100).round(1)\n",
        "\n",
        "  # Calculate percent out of debt\n",
        "  target_persons['initial_debt_10'] = target_persons.networth < 0\n",
        "  target_persons['ubi_debt_10'] = target_persons.ubi_networth_pp < 0\n",
        "  target_persons['no_ed_debt_debt_10'] = target_persons.no_debt_networth_pp < 0\n",
        "\n",
        "  percent_initial_debt_10 = (((target_persons.initial_debt_10 \n",
        "                           * target_persons.wgt_numper).sum()) / target_pop \n",
        "                          * 100).round(1)\n",
        "  percent_ubi_debt_10 = (((target_persons.ubi_debt_10 \n",
        "                           * target_persons.wgt_numper).sum()) / target_pop\n",
        "                      * 100).round(1)\n",
        "  percent_no_ed_debt_debt_10 = (((target_persons.no_ed_debt_debt_10 \n",
        "                           * target_persons.wgt_numper).sum()) / target_pop\n",
        "                           * 100).round(1)\n",
        "\n",
        "  # Calculate percent poor\n",
        "  total_original_poor_10 = (target_persons.original_poor * target_persons.wgt_numper).sum()\n",
        "  percent_original_poor_10 = (total_original_poor_10 / target_pop * 100).round(1)\n",
        "\n",
        "  target_persons['ubi_income_10'] = target_persons.total_ubi_10 + target_persons.income\n",
        "  target_persons['ubi_poor_10'] = target_persons.ubi_income_10 < target_persons.opm_pov_thresh\n",
        "  ubi_total_poor_10 = (target_persons.wgt_numper * target_persons.ubi_poor_10).sum()\n",
        "  ubi_percent_poor_10 = ubi_total_poor_10 / target_pop\n",
        "  percent_ubi_poor_10 = (ubi_percent_poor_10 * 100).round(1)\n",
        "\n",
        "  target_persons['ed_debt_income_10'] = target_persons.difference_10 + target_persons.income\n",
        "  target_persons['ed_debt_poor_10'] = target_persons.ed_debt_income_10 < target_persons.opm_pov_thresh\n",
        "  ed_debt_total_poor_10 = (target_persons.wgt_numper * target_persons.ed_debt_poor_10).sum()\n",
        "  ed_debt_percent_poor_10 = ed_debt_total_poor_10 / target_pop\n",
        "  percent_ed_debt_poor_10 = (ed_debt_percent_poor_10 * 100).round(1)\n",
        "\n",
        "  # Calculate poverty gap\n",
        "  target_persons['ubi_poverty_gap_10'] = target_persons.opm_pov_thresh - target_persons.ubi_income_10\n",
        "  ubi_gap_billions_10 = (((target_persons.ubi_poor_10 * target_persons.ubi_poverty_gap_10 * target_persons.wgt_numper).sum()) / 1e9).round(1)\n",
        "\n",
        "  target_persons['ed_debt_poverty_gap_10'] = target_persons.opm_pov_thresh - target_persons.ed_debt_income_10\n",
        "  ed_debt_gap_billions_10 = (((target_persons.ed_debt_poor_10 * target_persons.ed_debt_poverty_gap_10 * target_persons.wgt_numper).sum()) / 1e9).round(1)\n",
        "\n",
        "  # Convert and round\n",
        "  ed_debt_change_10 = ed_debt_change_10.astype(int)\n",
        "  ubi_change_10 = ubi_change_10.astype(int)\n",
        "\n",
        "  return pd.Series([ed_debt_change_10, ubi_change_10, percent_better_off_with_ed_10, \n",
        "                    percent_initial_debt_10, percent_ubi_debt_10, \n",
        "                    percent_no_ed_debt_debt_10, percent_ubi_poor_10, percent_ed_debt_poor_10,\n",
        "                    ubi_gap_billions_10, ed_debt_gap_billions_10])"
      ],
      "execution_count": 81,
      "outputs": []
    },
    {
      "cell_type": "code",
      "metadata": {
        "id": "OluouDB-gna5"
      },
      "source": [
        "def networth_row_10(row):\n",
        "  return networth_fun_10(row.networth_pp_quintile2)"
      ],
      "execution_count": 82,
      "outputs": []
    },
    {
      "cell_type": "code",
      "metadata": {
        "id": "gxSZtE6tgna7"
      },
      "source": [
        "networth[['ed_debt_change_10', 'ubi_change_10', 'percent_better_off_with_ed_10',\n",
        "        'in_debt_10', 'in_debt_ubi_10', 'in_debt_no_ed_debt_10',\n",
        "      'percent_ubi_poor_10', 'percent_ed_debt_poor_10', \n",
        "     'ubi_gap_billions_10', 'ed_debt_gap_billions_10']] = networth.apply(networth_row_10, axis=1)"
      ],
      "execution_count": 83,
      "outputs": []
    },
    {
      "cell_type": "code",
      "metadata": {
        "id": "5iB84PdTgnbA"
      },
      "source": [
        "def poor_fun_10(original_poor):\n",
        "  target_persons = scf[scf.original_poor==original_poor].copy(deep=True)\n",
        "\n",
        "  # Calculate average benefit by reform\n",
        "  start = mdf.weighted_mean(target_persons, 'networth_pp', 'wgt_numper')\n",
        "  ed_debt = mdf.weighted_mean(target_persons, 'no_debt_networth_pp_10', 'wgt_numper')\n",
        "  ubi = mdf.weighted_mean(target_persons, 'ubi_networth_pp_10', 'wgt_numper')\n",
        "\n",
        "  ed_debt_change_10 = ed_debt - start\n",
        "  ubi_change_10 = ubi - start\n",
        "\n",
        "  # Calculate percent better off with ed debt cancellation\n",
        "  target_persons['better_with_ed_10'] = target_persons.ubi_networth_pp_10 < target_persons.no_debt_networth_pp_10\n",
        "  total_better_off_with_ed_10 = (target_persons.better_with_ed_10 * target_persons.wgt_numper).sum()\n",
        "  target_pop = target_persons.wgt_numper.sum()\n",
        "  percent_better_off_with_ed_10 = (total_better_off_with_ed_10 / target_pop * 100).round(1)\n",
        "\n",
        "  # Calculate percent out of debt\n",
        "  target_persons['initial_debt_10'] = target_persons.networth < 0\n",
        "  target_persons['ubi_debt_10'] = target_persons.ubi_networth_pp < 0\n",
        "  target_persons['no_ed_debt_debt_10'] = target_persons.no_debt_networth_pp < 0\n",
        "\n",
        "  percent_initial_debt_10 = (((target_persons.initial_debt_10 \n",
        "                           * target_persons.wgt_numper).sum()) / target_pop \n",
        "                          * 100).round(1)\n",
        "  percent_ubi_debt_10 = (((target_persons.ubi_debt_10 \n",
        "                           * target_persons.wgt_numper).sum()) / target_pop\n",
        "                      * 100).round(1)\n",
        "  percent_no_ed_debt_debt_10 = (((target_persons.no_ed_debt_debt_10 \n",
        "                           * target_persons.wgt_numper).sum()) / target_pop\n",
        "                           * 100).round(1)\n",
        "\n",
        "  # Calculate percent poor\n",
        "  total_original_poor_10 = (target_persons.original_poor * target_persons.wgt_numper).sum()\n",
        "  percent_original_poor_10 = (total_original_poor_10 / target_pop * 100).round(1)\n",
        "\n",
        "  target_persons['ubi_income_10'] = target_persons.total_ubi_10 + target_persons.income\n",
        "  target_persons['ubi_poor_10'] = target_persons.ubi_income_10 < target_persons.opm_pov_thresh\n",
        "  ubi_total_poor_10 = (target_persons.wgt_numper * target_persons.ubi_poor_10).sum()\n",
        "  ubi_percent_poor_10 = ubi_total_poor_10 / target_pop\n",
        "  percent_ubi_poor_10 = (ubi_percent_poor_10 * 100).round(1)\n",
        "\n",
        "  target_persons['ed_debt_income_10'] = target_persons.difference_10 + target_persons.income\n",
        "  target_persons['ed_debt_poor_10'] = target_persons.ed_debt_income_10 < target_persons.opm_pov_thresh\n",
        "  ed_debt_total_poor_10 = (target_persons.wgt_numper * target_persons.ed_debt_poor_10).sum()\n",
        "  ed_debt_percent_poor_10 = ed_debt_total_poor_10 / target_pop\n",
        "  percent_ed_debt_poor_10 = (ed_debt_percent_poor_10 * 100).round(1)\n",
        "\n",
        "  # Calculate poverty gap\n",
        "  target_persons['ubi_poverty_gap_10'] = target_persons.opm_pov_thresh - target_persons.ubi_income_10\n",
        "  ubi_gap_billions_10 = (((target_persons.ubi_poor_10 * target_persons.ubi_poverty_gap_10 * target_persons.wgt_numper).sum()) / 1e9).round(1)\n",
        "\n",
        "  target_persons['ed_debt_poverty_gap_10'] = target_persons.opm_pov_thresh - target_persons.ed_debt_income_10\n",
        "  ed_debt_gap_billions_10 = (((target_persons.ed_debt_poor_10 * target_persons.ed_debt_poverty_gap_10 * target_persons.wgt_numper).sum()) / 1e9).round(1)\n",
        "\n",
        "  # Convert and round\n",
        "  ed_debt_change_10 = ed_debt_change_10.astype(int)\n",
        "  ubi_change_10 = ubi_change_10.astype(int)\n",
        "\n",
        "  return pd.Series([ed_debt_change_10, ubi_change_10, percent_better_off_with_ed_10, \n",
        "                    percent_initial_debt_10, percent_ubi_debt_10, \n",
        "                    percent_no_ed_debt_debt_10, percent_ubi_poor_10, percent_ed_debt_poor_10,\n",
        "                    ubi_gap_billions_10, ed_debt_gap_billions_10])"
      ],
      "execution_count": 84,
      "outputs": []
    },
    {
      "cell_type": "code",
      "metadata": {
        "id": "0y8qYQJsgnbC"
      },
      "source": [
        "def poor_row_10(row):\n",
        "  return poor_fun_10(row.original_poor)"
      ],
      "execution_count": 85,
      "outputs": []
    },
    {
      "cell_type": "code",
      "metadata": {
        "id": "gMxCzr9hgnbF"
      },
      "source": [
        "poor[['ed_debt_change_10', 'ubi_change_10', 'percent_better_off_with_ed_10',\n",
        "        'in_debt_10', 'in_debt_ubi_10', 'in_debt_no_ed_debt_10',\n",
        "      'percent_ubi_poor_10', 'percent_ed_debt_poor_10', \n",
        "     'ubi_gap_billions_10', 'ed_debt_gap_billions_10']] = poor.apply(poor_row_10, axis=1)"
      ],
      "execution_count": 86,
      "outputs": []
    },
    {
      "cell_type": "markdown",
      "metadata": {
        "id": "sur8dn_kFRi4"
      },
      "source": [
        "## Groupings"
      ]
    },
    {
      "cell_type": "code",
      "metadata": {
        "id": "bS0rRtdA7qNk"
      },
      "source": [
        "def all_fun(index_num):\n",
        "  target_persons = scf.copy(deep=True)\n",
        "\n",
        "  # Calculate average benefit by reform\n",
        "  start = mdf.weighted_mean(target_persons, 'networth_pp', 'wgt_numper')\n",
        "  ed_debt = mdf.weighted_mean(target_persons, 'no_debt_networth_pp', 'wgt_numper')\n",
        "  ubi = mdf.weighted_mean(target_persons, 'ubi_networth_pp', 'wgt_numper')\n",
        "\n",
        "  ed_debt_change = ed_debt - start\n",
        "  ubi_change = ubi - start\n",
        "\n",
        "  # Calculate percent better off with ed debt cancellation\n",
        "  target_persons['better_with_ed'] = target_persons.ubi_networth_pp < target_persons.no_debt_networth_pp\n",
        "  total_better_off_with_ed = (target_persons.better_with_ed * target_persons.wgt_numper).sum()\n",
        "  target_pop = target_persons.wgt_numper.sum()\n",
        "  percent_better_off_with_ed = (total_better_off_with_ed / target_pop * 100).round(1)\n",
        "\n",
        "  # Calculate percent out of debt\n",
        "  target_persons['initial_debt'] = target_persons.networth_pp < 0\n",
        "  target_persons['ubi_debt'] = target_persons.ubi_networth_pp < 0\n",
        "  target_persons['no_ed_debt_debt'] = target_persons.no_debt_networth_pp < 0\n",
        "\n",
        "  percent_initial_debt = (((target_persons.initial_debt \n",
        "                           * target_persons.wgt_numper).sum()) / target_pop \n",
        "                          * 100).round(1)\n",
        "  percent_ubi_debt = (((target_persons.ubi_debt \n",
        "                           * target_persons.wgt_numper).sum()) / target_pop\n",
        "                      * 100).round(1)\n",
        "  percent_no_ed_debt_debt = (((target_persons.no_ed_debt_debt \n",
        "                           * target_persons.wgt_numper).sum()) / target_pop\n",
        "                           * 100).round(1)\n",
        "\n",
        "  # Calculate percent poor\n",
        "  total_original_poor = (target_persons.original_poor * target_persons.wgt_numper).sum()\n",
        "  percent_original_poor = (total_original_poor / target_pop * 100).round(1)\n",
        "\n",
        "  target_persons['ubi_income'] = target_persons.total_ubi + target_persons.income\n",
        "  target_persons['ubi_poor'] = target_persons.ubi_income < target_persons.opm_pov_thresh\n",
        "  ubi_total_poor = (target_persons.wgt_numper * target_persons.ubi_poor).sum()\n",
        "  ubi_percent_poor = ubi_total_poor / target_pop\n",
        "  percent_ubi_poor = (ubi_percent_poor * 100).round(1)\n",
        "\n",
        "  target_persons['ed_debt_income'] = target_persons.edn_inst + target_persons.income\n",
        "  target_persons['ed_debt_poor'] = target_persons.ed_debt_income < target_persons.opm_pov_thresh\n",
        "  ed_debt_total_poor = (target_persons.wgt_numper * target_persons.ed_debt_poor).sum()\n",
        "  ed_debt_percent_poor = ed_debt_total_poor / target_pop\n",
        "  percent_ed_debt_poor = (ed_debt_percent_poor * 100).round(1)\n",
        "\n",
        "  # Calculate poverty gap\n",
        "  target_persons['original_poverty_gap'] = target_persons.opm_pov_thresh - target_persons.income\n",
        "  original_gap_billions = (((target_persons.original_poor * target_persons.original_poverty_gap * target_persons.wgt_numper).sum()) / 1e9).round(1)\n",
        "\n",
        "  target_persons['ubi_poverty_gap'] = target_persons.opm_pov_thresh - target_persons.ubi_income\n",
        "  ubi_gap_billions = (((target_persons.ubi_poor * target_persons.ubi_poverty_gap * target_persons.wgt_numper).sum()) / 1e9).round(1)\n",
        "\n",
        "  target_persons['ed_debt_poverty_gap'] = target_persons.opm_pov_thresh - target_persons.ed_debt_income\n",
        "  ed_debt_gap_billions = (((target_persons.ed_debt_poor * target_persons.ed_debt_poverty_gap * target_persons.wgt_numper).sum()) / 1e9).round(1)\n",
        "\n",
        "  # Convert and round\n",
        "  ed_debt_change = ed_debt_change.astype(int)\n",
        "  ubi_change = ubi_change.astype(int)\n",
        "\n",
        "  return pd.Series([ed_debt_change, ubi_change, percent_better_off_with_ed, \n",
        "                    percent_initial_debt, percent_ubi_debt, \n",
        "                    percent_no_ed_debt_debt, percent_original_poor, \n",
        "                    percent_ubi_poor, percent_ed_debt_poor,\n",
        "                    original_gap_billions, ubi_gap_billions, ed_debt_gap_billions])"
      ],
      "execution_count": 87,
      "outputs": []
    },
    {
      "cell_type": "code",
      "metadata": {
        "id": "0ng4T78S8SQM"
      },
      "source": [
        "def all_row(row):\n",
        "  return all_fun(row.index)"
      ],
      "execution_count": 88,
      "outputs": []
    },
    {
      "cell_type": "code",
      "metadata": {
        "id": "FyBshiU38dAr"
      },
      "source": [
        "all[['ed_debt_change', 'ubi_change', 'percent_better_off_with_ed',\n",
        "        'in_debt', 'in_debt_ubi', 'in_debt_no_ed_debt',\n",
        "        'percent_original_poor', 'percent_ubi_poor', 'percent_ed_debt_poor', \n",
        "     'original_gap_billions', 'ubi_gap_billions', 'ed_debt_gap_billions']] = all.apply(all_row, axis=1)"
      ],
      "execution_count": 89,
      "outputs": []
    },
    {
      "cell_type": "code",
      "metadata": {
        "id": "iY_2LdyAwBKn"
      },
      "source": [
        "def race_fun(race):\n",
        "  target_persons = scf[scf.race==race].copy(deep=True)\n",
        "\n",
        "  # Calculate average benefit by reform\n",
        "  start = mdf.weighted_mean(target_persons, 'networth_pp', 'wgt_numper')\n",
        "  ed_debt = mdf.weighted_mean(target_persons, 'no_debt_networth_pp', 'wgt_numper')\n",
        "  ubi = mdf.weighted_mean(target_persons, 'ubi_networth_pp', 'wgt_numper')\n",
        "\n",
        "  ed_debt_change = ed_debt - start\n",
        "  ubi_change = ubi - start\n",
        "\n",
        "  # Calculate percent better off with ed debt cancellation\n",
        "  target_persons['better_with_ed'] = target_persons.ubi_networth_pp < target_persons.no_debt_networth_pp\n",
        "  total_better_off_with_ed = (target_persons.better_with_ed * target_persons.wgt_numper).sum()\n",
        "  target_pop = target_persons.wgt_numper.sum()\n",
        "  percent_better_off_with_ed = (total_better_off_with_ed / target_pop * 100).round(1)\n",
        "\n",
        "  # Calculate percent out of debt\n",
        "  target_persons['initial_debt'] = target_persons.networth_pp < 0\n",
        "  target_persons['ubi_debt'] = target_persons.ubi_networth_pp < 0\n",
        "  target_persons['no_ed_debt_debt'] = target_persons.no_debt_networth_pp < 0\n",
        "\n",
        "  percent_initial_debt = (((target_persons.initial_debt \n",
        "                           * target_persons.wgt_numper).sum()) / target_pop \n",
        "                          * 100).round(1)\n",
        "  percent_ubi_debt = (((target_persons.ubi_debt \n",
        "                           * target_persons.wgt_numper).sum()) / target_pop\n",
        "                      * 100).round(1)\n",
        "  percent_no_ed_debt_debt = (((target_persons.no_ed_debt_debt \n",
        "                           * target_persons.wgt_numper).sum()) / target_pop\n",
        "                           * 100).round(1)\n",
        "\n",
        "  # Calculate percent poor\n",
        "  total_original_poor = (target_persons.original_poor * target_persons.wgt_numper).sum()\n",
        "  percent_original_poor = (total_original_poor / target_pop * 100).round(1)\n",
        "\n",
        "  target_persons['ubi_income'] = target_persons.total_ubi + target_persons.income\n",
        "  target_persons['ubi_poor'] = target_persons.ubi_income < target_persons.opm_pov_thresh\n",
        "  ubi_total_poor = (target_persons.wgt_numper * target_persons.ubi_poor).sum()\n",
        "  ubi_percent_poor = ubi_total_poor / target_pop\n",
        "  percent_ubi_poor = (ubi_percent_poor * 100).round(1)\n",
        "\n",
        "  target_persons['ed_debt_income'] = target_persons.edn_inst + target_persons.income\n",
        "  target_persons['ed_debt_poor'] = target_persons.ed_debt_income < target_persons.opm_pov_thresh\n",
        "  ed_debt_total_poor = (target_persons.wgt_numper * target_persons.ed_debt_poor).sum()\n",
        "  ed_debt_percent_poor = ed_debt_total_poor / target_pop\n",
        "  percent_ed_debt_poor = (ed_debt_percent_poor * 100).round(1)\n",
        "\n",
        "  # Calculate poverty gap\n",
        "  target_persons['original_poverty_gap'] = target_persons.opm_pov_thresh - target_persons.income\n",
        "  original_gap_billions = (((target_persons.original_poor * target_persons.original_poverty_gap * target_persons.wgt_numper).sum()) / 1e9).round(1)\n",
        "\n",
        "  target_persons['ubi_poverty_gap'] = target_persons.opm_pov_thresh - target_persons.ubi_income\n",
        "  ubi_gap_billions = (((target_persons.ubi_poor * target_persons.ubi_poverty_gap * target_persons.wgt_numper).sum()) / 1e9).round(1)\n",
        "\n",
        "  target_persons['ed_debt_poverty_gap'] = target_persons.opm_pov_thresh - target_persons.ed_debt_income\n",
        "  ed_debt_gap_billions = (((target_persons.ed_debt_poor * target_persons.ed_debt_poverty_gap * target_persons.wgt_numper).sum()) / 1e9).round(1)\n",
        "\n",
        "  # Convert and round\n",
        "  ed_debt_change = ed_debt_change.astype(int)\n",
        "  ubi_change = ubi_change.astype(int)\n",
        "\n",
        "  return pd.Series([ed_debt_change, ubi_change, percent_better_off_with_ed, \n",
        "                    percent_initial_debt, percent_ubi_debt, \n",
        "                    percent_no_ed_debt_debt, percent_original_poor, \n",
        "                    percent_ubi_poor, percent_ed_debt_poor,\n",
        "                    original_gap_billions, ubi_gap_billions, ed_debt_gap_billions])"
      ],
      "execution_count": 90,
      "outputs": []
    },
    {
      "cell_type": "code",
      "metadata": {
        "id": "0JsHhLxUwOUg"
      },
      "source": [
        "def race_row(row):\n",
        "  return race_fun(row.race)"
      ],
      "execution_count": 91,
      "outputs": []
    },
    {
      "cell_type": "code",
      "metadata": {
        "id": "k6yolaFqwUqW"
      },
      "source": [
        "race[['ed_debt_change', 'ubi_change', 'percent_better_off_with_ed',\n",
        "        'in_debt', 'in_debt_ubi', 'in_debt_no_ed_debt',\n",
        "        'percent_original_poor', 'percent_ubi_poor', 'percent_ed_debt_poor', \n",
        "     'original_gap_billions', 'ubi_gap_billions', 'ed_debt_gap_billions']] = race.apply(race_row, axis=1)"
      ],
      "execution_count": 92,
      "outputs": []
    },
    {
      "cell_type": "code",
      "metadata": {
        "id": "5x2N3qjr0vk9"
      },
      "source": [
        "def education_fun(edcl):\n",
        "  target_persons = scf[scf.edcl==edcl].copy(deep=True)\n",
        "\n",
        "  # Calculate average benefit by reform\n",
        "  start = mdf.weighted_mean(target_persons, 'networth_pp', 'wgt_numper')\n",
        "  ed_debt = mdf.weighted_mean(target_persons, 'no_debt_networth_pp', 'wgt_numper')\n",
        "  ubi = mdf.weighted_mean(target_persons, 'ubi_networth_pp', 'wgt_numper')\n",
        "\n",
        "  ed_debt_change = ed_debt - start\n",
        "  ubi_change = ubi - start\n",
        "\n",
        "  # Calculate percent better off with ed debt cancellation\n",
        "  target_persons['better_with_ed'] = target_persons.ubi_networth_pp < target_persons.no_debt_networth_pp\n",
        "  total_better_off_with_ed = (target_persons.better_with_ed * target_persons.wgt_numper).sum()\n",
        "  target_pop = target_persons.wgt_numper.sum()\n",
        "  percent_better_off_with_ed = (total_better_off_with_ed / target_pop * 100).round(1)\n",
        "\n",
        "  # Calculate percent out of debt\n",
        "  target_persons['initial_debt'] = target_persons.networth_pp < 0\n",
        "  target_persons['ubi_debt'] = target_persons.ubi_networth_pp < 0\n",
        "  target_persons['no_ed_debt_debt'] = target_persons.no_debt_networth_pp < 0\n",
        "\n",
        "  percent_initial_debt = (((target_persons.initial_debt \n",
        "                           * target_persons.wgt_numper).sum()) / target_pop \n",
        "                          * 100).round(1)\n",
        "  percent_ubi_debt = (((target_persons.ubi_debt \n",
        "                           * target_persons.wgt_numper).sum()) / target_pop\n",
        "                      * 100).round(1)\n",
        "  percent_no_ed_debt_debt = (((target_persons.no_ed_debt_debt \n",
        "                           * target_persons.wgt_numper).sum()) / target_pop\n",
        "                           * 100).round(1)\n",
        "\n",
        "  # Calculate percent poor\n",
        "  total_original_poor = (target_persons.original_poor * target_persons.wgt_numper).sum()\n",
        "  percent_original_poor = (total_original_poor / target_pop * 100).round(1)\n",
        "\n",
        "  target_persons['ubi_income'] = target_persons.total_ubi + target_persons.income\n",
        "  target_persons['ubi_poor'] = target_persons.ubi_income < target_persons.opm_pov_thresh\n",
        "  ubi_total_poor = (target_persons.wgt_numper * target_persons.ubi_poor).sum()\n",
        "  ubi_percent_poor = ubi_total_poor / target_pop\n",
        "  percent_ubi_poor = (ubi_percent_poor * 100).round(1)\n",
        "\n",
        "  target_persons['ed_debt_income'] = target_persons.edn_inst + target_persons.income\n",
        "  target_persons['ed_debt_poor'] = target_persons.ed_debt_income < target_persons.opm_pov_thresh\n",
        "  ed_debt_total_poor = (target_persons.wgt_numper * target_persons.ed_debt_poor).sum()\n",
        "  ed_debt_percent_poor = ed_debt_total_poor / target_pop\n",
        "  percent_ed_debt_poor = (ed_debt_percent_poor * 100).round(1)\n",
        "\n",
        "  # Calculate poverty gap\n",
        "  target_persons['original_poverty_gap'] = target_persons.opm_pov_thresh - target_persons.income\n",
        "  original_gap_billions = (((target_persons.original_poor * target_persons.original_poverty_gap * target_persons.wgt_numper).sum()) / 1e9).round(1)\n",
        "\n",
        "  target_persons['ubi_poverty_gap'] = target_persons.opm_pov_thresh - target_persons.ubi_income\n",
        "  ubi_gap_billions = (((target_persons.ubi_poor * target_persons.ubi_poverty_gap * target_persons.wgt_numper).sum()) / 1e9).round(1)\n",
        "\n",
        "  target_persons['ed_debt_poverty_gap'] = target_persons.opm_pov_thresh - target_persons.ed_debt_income\n",
        "  ed_debt_gap_billions = (((target_persons.ed_debt_poor * target_persons.ed_debt_poverty_gap * target_persons.wgt_numper).sum()) / 1e9).round(1)\n",
        "\n",
        "  # Convert and round\n",
        "  ed_debt_change = ed_debt_change.astype(int)\n",
        "  ubi_change = ubi_change.astype(int)\n",
        "\n",
        "  return pd.Series([ed_debt_change, ubi_change, percent_better_off_with_ed, \n",
        "                    percent_initial_debt, percent_ubi_debt, \n",
        "                    percent_no_ed_debt_debt, percent_original_poor, \n",
        "                    percent_ubi_poor, percent_ed_debt_poor,\n",
        "                    original_gap_billions, ubi_gap_billions, ed_debt_gap_billions])"
      ],
      "execution_count": 93,
      "outputs": []
    },
    {
      "cell_type": "code",
      "metadata": {
        "id": "JGnUlzPi04I6"
      },
      "source": [
        "def education_row(row):\n",
        "  return education_fun(row.edcl)"
      ],
      "execution_count": 94,
      "outputs": []
    },
    {
      "cell_type": "code",
      "metadata": {
        "id": "NocytyWE0_9y"
      },
      "source": [
        "education[['ed_debt_change', 'ubi_change', 'percent_better_off_with_ed',\n",
        "        'in_debt', 'in_debt_ubi', 'in_debt_no_ed_debt',\n",
        "        'percent_original_poor', 'percent_ubi_poor', 'percent_ed_debt_poor', \n",
        "     'original_gap_billions', 'ubi_gap_billions', 'ed_debt_gap_billions']] = education.apply(education_row, axis=1)"
      ],
      "execution_count": 95,
      "outputs": []
    },
    {
      "cell_type": "code",
      "metadata": {
        "id": "DE6h-E45FQtJ"
      },
      "source": [
        "def income_fun(income_pp_quintile):\n",
        "  target_persons = scf[scf.income_pp_quintile==income_pp_quintile].copy(deep=True)\n",
        "\n",
        "  # Calculate average benefit by reform\n",
        "  start = mdf.weighted_mean(target_persons, 'networth_pp', 'wgt_numper')\n",
        "  ed_debt = mdf.weighted_mean(target_persons, 'no_debt_networth_pp', 'wgt_numper')\n",
        "  ubi = mdf.weighted_mean(target_persons, 'ubi_networth_pp', 'wgt_numper')\n",
        "\n",
        "  ed_debt_change = ed_debt - start\n",
        "  ubi_change = ubi - start\n",
        "\n",
        "  # Calculate percent better off with ed debt cancellation\n",
        "  target_persons['better_with_ed'] = target_persons.ubi_networth_pp < target_persons.no_debt_networth_pp\n",
        "  total_better_off_with_ed = (target_persons.better_with_ed * target_persons.wgt_numper).sum()\n",
        "  target_pop = target_persons.wgt_numper.sum()\n",
        "  percent_better_off_with_ed = (total_better_off_with_ed / target_pop * 100).round(1)\n",
        "\n",
        "  # Calculate percent out of debt\n",
        "  target_persons['initial_debt'] = target_persons.networth_pp < 0\n",
        "  target_persons['ubi_debt'] = target_persons.ubi_networth_pp < 0\n",
        "  target_persons['no_ed_debt_debt'] = target_persons.no_debt_networth_pp < 0\n",
        "\n",
        "  percent_initial_debt = (((target_persons.initial_debt \n",
        "                           * target_persons.wgt_numper).sum()) / target_pop \n",
        "                          * 100).round(1)\n",
        "  percent_ubi_debt = (((target_persons.ubi_debt \n",
        "                           * target_persons.wgt_numper).sum()) / target_pop\n",
        "                      * 100).round(1)\n",
        "  percent_no_ed_debt_debt = (((target_persons.no_ed_debt_debt \n",
        "                           * target_persons.wgt_numper).sum()) / target_pop\n",
        "                           * 100).round(1)\n",
        "\n",
        "  # Calculate percent poor\n",
        "  total_original_poor = (target_persons.original_poor * target_persons.wgt_numper).sum()\n",
        "  percent_original_poor = (total_original_poor / target_pop * 100).round(1)\n",
        "\n",
        "  target_persons['ubi_income'] = target_persons.total_ubi + target_persons.income\n",
        "  target_persons['ubi_poor'] = target_persons.ubi_income < target_persons.opm_pov_thresh\n",
        "  ubi_total_poor = (target_persons.wgt_numper * target_persons.ubi_poor).sum()\n",
        "  ubi_percent_poor = ubi_total_poor / target_pop\n",
        "  percent_ubi_poor = (ubi_percent_poor * 100).round(1)\n",
        "\n",
        "  target_persons['ed_debt_income'] = target_persons.edn_inst + target_persons.income\n",
        "  target_persons['ed_debt_poor'] = target_persons.ed_debt_income < target_persons.opm_pov_thresh\n",
        "  ed_debt_total_poor = (target_persons.wgt_numper * target_persons.ed_debt_poor).sum()\n",
        "  ed_debt_percent_poor = ed_debt_total_poor / target_pop\n",
        "  percent_ed_debt_poor = (ed_debt_percent_poor * 100).round(1)\n",
        "\n",
        "  # Calculate poverty gap\n",
        "  target_persons['original_poverty_gap'] = target_persons.opm_pov_thresh - target_persons.income\n",
        "  original_gap_billions = (((target_persons.original_poor * target_persons.original_poverty_gap * target_persons.wgt_numper).sum()) / 1e9).round(1)\n",
        "\n",
        "  target_persons['ubi_poverty_gap'] = target_persons.opm_pov_thresh - target_persons.ubi_income\n",
        "  ubi_gap_billions = (((target_persons.ubi_poor * target_persons.ubi_poverty_gap * target_persons.wgt_numper).sum()) / 1e9).round(1)\n",
        "\n",
        "  target_persons['ed_debt_poverty_gap'] = target_persons.opm_pov_thresh - target_persons.ed_debt_income\n",
        "  ed_debt_gap_billions = (((target_persons.ed_debt_poor * target_persons.ed_debt_poverty_gap * target_persons.wgt_numper).sum()) / 1e9).round(1)\n",
        "\n",
        "  # Convert and round\n",
        "  ed_debt_change = ed_debt_change.astype(int)\n",
        "  ubi_change = ubi_change.astype(int)\n",
        "\n",
        "  return pd.Series([ed_debt_change, ubi_change, percent_better_off_with_ed, \n",
        "                    percent_initial_debt, percent_ubi_debt, \n",
        "                    percent_no_ed_debt_debt, percent_original_poor, \n",
        "                    percent_ubi_poor, percent_ed_debt_poor,\n",
        "                    original_gap_billions, ubi_gap_billions, ed_debt_gap_billions])"
      ],
      "execution_count": 96,
      "outputs": []
    },
    {
      "cell_type": "code",
      "metadata": {
        "id": "by2CN0lmFf3m"
      },
      "source": [
        "def income_row(row):\n",
        "  return income_fun(row.income_pp_quintile)"
      ],
      "execution_count": 97,
      "outputs": []
    },
    {
      "cell_type": "code",
      "metadata": {
        "id": "4vik-YbNFoa-"
      },
      "source": [
        "income[['ed_debt_change', 'ubi_change', 'percent_better_off_with_ed',\n",
        "        'in_debt', 'in_debt_ubi', 'in_debt_no_ed_debt',\n",
        "        'percent_original_poor', 'percent_ubi_poor', 'percent_ed_debt_poor', \n",
        "     'original_gap_billions', 'ubi_gap_billions', 'ed_debt_gap_billions']] = income.apply(income_row, axis=1)"
      ],
      "execution_count": 98,
      "outputs": []
    },
    {
      "cell_type": "code",
      "metadata": {
        "id": "PLnXoN6z0pDn"
      },
      "source": [
        "def age_fun(agecl):\n",
        "  target_persons = scf[scf.agecl==agecl].copy(deep=True)\n",
        "\n",
        "  # Calculate average benefit by reform\n",
        "  start = mdf.weighted_mean(target_persons, 'networth_pp', 'wgt_numper')\n",
        "  ed_debt = mdf.weighted_mean(target_persons, 'no_debt_networth_pp', 'wgt_numper')\n",
        "  ubi = mdf.weighted_mean(target_persons, 'ubi_networth_pp', 'wgt_numper')\n",
        "\n",
        "  ed_debt_change = ed_debt - start\n",
        "  ubi_change = ubi - start\n",
        "\n",
        "  # Calculate percent better off with ed debt cancellation\n",
        "  target_persons['better_with_ed'] = target_persons.ubi_networth_pp < target_persons.no_debt_networth_pp\n",
        "  total_better_off_with_ed = (target_persons.better_with_ed * target_persons.wgt_numper).sum()\n",
        "  target_pop = target_persons.wgt_numper.sum()\n",
        "  percent_better_off_with_ed = (total_better_off_with_ed / target_pop * 100).round(1)\n",
        "\n",
        "  # Calculate percent out of debt\n",
        "  target_persons['initial_debt'] = target_persons.networth_pp < 0\n",
        "  target_persons['ubi_debt'] = target_persons.ubi_networth_pp < 0\n",
        "  target_persons['no_ed_debt_debt'] = target_persons.no_debt_networth_pp < 0\n",
        "\n",
        "  percent_initial_debt = (((target_persons.initial_debt \n",
        "                           * target_persons.wgt_numper).sum()) / target_pop \n",
        "                          * 100).round(1)\n",
        "  percent_ubi_debt = (((target_persons.ubi_debt \n",
        "                           * target_persons.wgt_numper).sum()) / target_pop\n",
        "                      * 100).round(1)\n",
        "  percent_no_ed_debt_debt = (((target_persons.no_ed_debt_debt \n",
        "                           * target_persons.wgt_numper).sum()) / target_pop\n",
        "                           * 100).round(1)\n",
        "\n",
        "  # Calculate percent poor\n",
        "  total_original_poor = (target_persons.original_poor * target_persons.wgt_numper).sum()\n",
        "  percent_original_poor = (total_original_poor / target_pop * 100).round(1)\n",
        "\n",
        "  target_persons['ubi_income'] = target_persons.total_ubi + target_persons.income\n",
        "  target_persons['ubi_poor'] = target_persons.ubi_income < target_persons.opm_pov_thresh\n",
        "  ubi_total_poor = (target_persons.wgt_numper * target_persons.ubi_poor).sum()\n",
        "  ubi_percent_poor = ubi_total_poor / target_pop\n",
        "  percent_ubi_poor = (ubi_percent_poor * 100).round(1)\n",
        "\n",
        "  target_persons['ed_debt_income'] = target_persons.edn_inst + target_persons.income\n",
        "  target_persons['ed_debt_poor'] = target_persons.ed_debt_income < target_persons.opm_pov_thresh\n",
        "  ed_debt_total_poor = (target_persons.wgt_numper * target_persons.ed_debt_poor).sum()\n",
        "  ed_debt_percent_poor = ed_debt_total_poor / target_pop\n",
        "  percent_ed_debt_poor = (ed_debt_percent_poor * 100).round(1)\n",
        "\n",
        "  # Calculate poverty gap\n",
        "  target_persons['original_poverty_gap'] = target_persons.opm_pov_thresh - target_persons.income\n",
        "  original_gap_billions = (((target_persons.original_poor * target_persons.original_poverty_gap * target_persons.wgt_numper).sum()) / 1e9).round(1)\n",
        "\n",
        "  target_persons['ubi_poverty_gap'] = target_persons.opm_pov_thresh - target_persons.ubi_income\n",
        "  ubi_gap_billions = (((target_persons.ubi_poor * target_persons.ubi_poverty_gap * target_persons.wgt_numper).sum()) / 1e9).round(1)\n",
        "\n",
        "  target_persons['ed_debt_poverty_gap'] = target_persons.opm_pov_thresh - target_persons.ed_debt_income\n",
        "  ed_debt_gap_billions = (((target_persons.ed_debt_poor * target_persons.ed_debt_poverty_gap * target_persons.wgt_numper).sum()) / 1e9).round(1)\n",
        "\n",
        "  # Convert and round\n",
        "  ed_debt_change = ed_debt_change.astype(int)\n",
        "  ubi_change = ubi_change.astype(int)\n",
        "\n",
        "  return pd.Series([ed_debt_change, ubi_change, percent_better_off_with_ed, \n",
        "                    percent_initial_debt, percent_ubi_debt, \n",
        "                    percent_no_ed_debt_debt, percent_original_poor, \n",
        "                    percent_ubi_poor, percent_ed_debt_poor,\n",
        "                    original_gap_billions, ubi_gap_billions, ed_debt_gap_billions])"
      ],
      "execution_count": 99,
      "outputs": []
    },
    {
      "cell_type": "code",
      "metadata": {
        "id": "QEC8r0IG1nG6"
      },
      "source": [
        "def age_row(row):\n",
        "  return age_fun(row.agecl)"
      ],
      "execution_count": 100,
      "outputs": []
    },
    {
      "cell_type": "code",
      "metadata": {
        "id": "yRInrYVR1vTH"
      },
      "source": [
        "age[['ed_debt_change', 'ubi_change', 'percent_better_off_with_ed',\n",
        "        'in_debt', 'in_debt_ubi', 'in_debt_no_ed_debt',\n",
        "        'percent_original_poor', 'percent_ubi_poor', 'percent_ed_debt_poor', \n",
        "     'original_gap_billions', 'ubi_gap_billions', 'ed_debt_gap_billions']] = age.apply(age_row, axis=1)"
      ],
      "execution_count": 101,
      "outputs": []
    },
    {
      "cell_type": "code",
      "metadata": {
        "id": "x7nYyz2I2Rpn"
      },
      "source": [
        "def networth_fun(networth_pp_quintile2):\n",
        "  target_persons = scf[scf.networth_pp_quintile2==networth_pp_quintile2].copy(deep=True)\n",
        "\n",
        "  # Calculate average benefit by reform\n",
        "  start = mdf.weighted_mean(target_persons, 'networth_pp', 'wgt_numper')\n",
        "  ed_debt = mdf.weighted_mean(target_persons, 'no_debt_networth_pp', 'wgt_numper')\n",
        "  ubi = mdf.weighted_mean(target_persons, 'ubi_networth_pp', 'wgt_numper')\n",
        "\n",
        "  ed_debt_change = ed_debt - start\n",
        "  ubi_change = ubi - start\n",
        "\n",
        "  # Calculate percent better off with ed debt cancellation\n",
        "  target_persons['better_with_ed'] = target_persons.ubi_networth_pp < target_persons.no_debt_networth_pp\n",
        "  total_better_off_with_ed = (target_persons.better_with_ed * target_persons.wgt_numper).sum()\n",
        "  target_pop = target_persons.wgt_numper.sum()\n",
        "  percent_better_off_with_ed = (total_better_off_with_ed / target_pop * 100).round(1)\n",
        "\n",
        "  # Calculate percent out of debt\n",
        "  target_persons['initial_debt'] = target_persons.networth_pp < 0\n",
        "  target_persons['ubi_debt'] = target_persons.ubi_networth_pp < 0\n",
        "  target_persons['no_ed_debt_debt'] = target_persons.no_debt_networth_pp < 0\n",
        "\n",
        "  percent_initial_debt = (((target_persons.initial_debt \n",
        "                           * target_persons.wgt_numper).sum()) / target_pop \n",
        "                          * 100).round(1)\n",
        "  percent_ubi_debt = (((target_persons.ubi_debt \n",
        "                           * target_persons.wgt_numper).sum()) / target_pop\n",
        "                      * 100).round(1)\n",
        "  percent_no_ed_debt_debt = (((target_persons.no_ed_debt_debt \n",
        "                           * target_persons.wgt_numper).sum()) / target_pop\n",
        "                           * 100).round(1)\n",
        "\n",
        "  # Calculate percent poor\n",
        "  total_original_poor = (target_persons.original_poor * target_persons.wgt_numper).sum()\n",
        "  percent_original_poor = (total_original_poor / target_pop * 100).round(1)\n",
        "\n",
        "  target_persons['ubi_income'] = target_persons.total_ubi + target_persons.income\n",
        "  target_persons['ubi_poor'] = target_persons.ubi_income < target_persons.opm_pov_thresh\n",
        "  ubi_total_poor = (target_persons.wgt_numper * target_persons.ubi_poor).sum()\n",
        "  ubi_percent_poor = ubi_total_poor / target_pop\n",
        "  percent_ubi_poor = (ubi_percent_poor * 100).round(1)\n",
        "\n",
        "  target_persons['ed_debt_income'] = target_persons.edn_inst + target_persons.income\n",
        "  target_persons['ed_debt_poor'] = target_persons.ed_debt_income < target_persons.opm_pov_thresh\n",
        "  ed_debt_total_poor = (target_persons.wgt_numper * target_persons.ed_debt_poor).sum()\n",
        "  ed_debt_percent_poor = ed_debt_total_poor / target_pop\n",
        "  percent_ed_debt_poor = (ed_debt_percent_poor * 100).round(1)\n",
        "\n",
        "  # Calculate poverty gap\n",
        "  target_persons['original_poverty_gap'] = target_persons.opm_pov_thresh - target_persons.income\n",
        "  original_gap_billions = (((target_persons.original_poor * target_persons.original_poverty_gap * target_persons.wgt_numper).sum()) / 1e9).round(1)\n",
        "\n",
        "  target_persons['ubi_poverty_gap'] = target_persons.opm_pov_thresh - target_persons.ubi_income\n",
        "  ubi_gap_billions = (((target_persons.ubi_poor * target_persons.ubi_poverty_gap * target_persons.wgt_numper).sum()) / 1e9).round(1)\n",
        "\n",
        "  target_persons['ed_debt_poverty_gap'] = target_persons.opm_pov_thresh - target_persons.ed_debt_income\n",
        "  ed_debt_gap_billions = (((target_persons.ed_debt_poor * target_persons.ed_debt_poverty_gap * target_persons.wgt_numper).sum()) / 1e9).round(1)\n",
        "\n",
        "  # Convert and round\n",
        "  ed_debt_change = ed_debt_change.astype(int)\n",
        "  ubi_change = ubi_change.astype(int)\n",
        "\n",
        "  return pd.Series([ed_debt_change, ubi_change, percent_better_off_with_ed, \n",
        "                    percent_initial_debt, percent_ubi_debt, \n",
        "                    percent_no_ed_debt_debt, percent_original_poor, \n",
        "                    percent_ubi_poor, percent_ed_debt_poor,\n",
        "                    original_gap_billions, ubi_gap_billions, ed_debt_gap_billions])"
      ],
      "execution_count": 102,
      "outputs": []
    },
    {
      "cell_type": "code",
      "metadata": {
        "id": "IRnPkV-F2bQF"
      },
      "source": [
        "def networth_row(row):\n",
        "  return networth_fun(row.networth_pp_quintile2)"
      ],
      "execution_count": 103,
      "outputs": []
    },
    {
      "cell_type": "code",
      "metadata": {
        "id": "xoFo1kJb2hxY"
      },
      "source": [
        "networth[['ed_debt_change', 'ubi_change', 'percent_better_off_with_ed',\n",
        "        'in_debt', 'in_debt_ubi', 'in_debt_no_ed_debt',\n",
        "        'percent_original_poor', 'percent_ubi_poor', 'percent_ed_debt_poor', \n",
        "     'original_gap_billions', 'ubi_gap_billions', 'ed_debt_gap_billions']] = networth.apply(networth_row, axis=1)"
      ],
      "execution_count": 104,
      "outputs": []
    },
    {
      "cell_type": "code",
      "metadata": {
        "id": "imy_NlBg6kmx"
      },
      "source": [
        "def poor_fun(original_poor):\n",
        "  target_persons = scf[scf.original_poor==original_poor].copy(deep=True)\n",
        "\n",
        "  # Calculate average benefit by reform\n",
        "  start = mdf.weighted_mean(target_persons, 'networth_pp', 'wgt_numper')\n",
        "  ed_debt = mdf.weighted_mean(target_persons, 'no_debt_networth_pp', 'wgt_numper')\n",
        "  ubi = mdf.weighted_mean(target_persons, 'ubi_networth_pp', 'wgt_numper')\n",
        "\n",
        "  ed_debt_change = ed_debt - start\n",
        "  ubi_change = ubi - start\n",
        "\n",
        "  # Calculate percent better off with ed debt cancellation\n",
        "  target_persons['better_with_ed'] = target_persons.ubi_networth_pp < target_persons.no_debt_networth_pp\n",
        "  total_better_off_with_ed = (target_persons.better_with_ed * target_persons.wgt_numper).sum()\n",
        "  target_pop = target_persons.wgt_numper.sum()\n",
        "  percent_better_off_with_ed = (total_better_off_with_ed / target_pop * 100).round(1)\n",
        "\n",
        "  # Calculate percent out of debt\n",
        "  target_persons['initial_debt'] = target_persons.networth_pp < 0\n",
        "  target_persons['ubi_debt'] = target_persons.ubi_networth_pp < 0\n",
        "  target_persons['no_ed_debt_debt'] = target_persons.no_debt_networth_pp < 0\n",
        "\n",
        "  percent_initial_debt = (((target_persons.initial_debt \n",
        "                           * target_persons.wgt_numper).sum()) / target_pop \n",
        "                          * 100).round(1)\n",
        "  percent_ubi_debt = (((target_persons.ubi_debt \n",
        "                           * target_persons.wgt_numper).sum()) / target_pop\n",
        "                      * 100).round(1)\n",
        "  percent_no_ed_debt_debt = (((target_persons.no_ed_debt_debt \n",
        "                           * target_persons.wgt_numper).sum()) / target_pop\n",
        "                           * 100).round(1)\n",
        "\n",
        "  # Calculate percent poor\n",
        "  total_original_poor = (target_persons.original_poor * target_persons.wgt_numper).sum()\n",
        "  percent_original_poor = (total_original_poor / target_pop * 100).round(1)\n",
        "\n",
        "  target_persons['ubi_income'] = target_persons.total_ubi + target_persons.income\n",
        "  target_persons['ubi_poor'] = target_persons.ubi_income < target_persons.opm_pov_thresh\n",
        "  ubi_total_poor = (target_persons.wgt_numper * target_persons.ubi_poor).sum()\n",
        "  ubi_percent_poor = ubi_total_poor / target_pop\n",
        "  percent_ubi_poor = (ubi_percent_poor * 100).round(1)\n",
        "\n",
        "  target_persons['ed_debt_income'] = target_persons.edn_inst + target_persons.income\n",
        "  target_persons['ed_debt_poor'] = target_persons.ed_debt_income < target_persons.opm_pov_thresh\n",
        "  ed_debt_total_poor = (target_persons.wgt_numper * target_persons.ed_debt_poor).sum()\n",
        "  ed_debt_percent_poor = ed_debt_total_poor / target_pop\n",
        "  percent_ed_debt_poor = (ed_debt_percent_poor * 100).round(1)\n",
        "\n",
        "  # Calculate poverty gap\n",
        "  target_persons['original_poverty_gap'] = target_persons.opm_pov_thresh - target_persons.income\n",
        "  original_gap_billions = (((target_persons.original_poor * target_persons.original_poverty_gap * target_persons.wgt_numper).sum()) / 1e9).round(1)\n",
        "\n",
        "  target_persons['ubi_poverty_gap'] = target_persons.opm_pov_thresh - target_persons.ubi_income\n",
        "  ubi_gap_billions = (((target_persons.ubi_poor * target_persons.ubi_poverty_gap * target_persons.wgt_numper).sum()) / 1e9).round(1)\n",
        "\n",
        "  target_persons['ed_debt_poverty_gap'] = target_persons.opm_pov_thresh - target_persons.ed_debt_income\n",
        "  ed_debt_gap_billions = (((target_persons.ed_debt_poor * target_persons.ed_debt_poverty_gap * target_persons.wgt_numper).sum()) / 1e9).round(1)\n",
        "\n",
        "  # Convert and round\n",
        "  ed_debt_change = ed_debt_change.astype(int)\n",
        "  ubi_change = ubi_change.astype(int)\n",
        "\n",
        "  return pd.Series([ed_debt_change, ubi_change, percent_better_off_with_ed, \n",
        "                    percent_initial_debt, percent_ubi_debt, \n",
        "                    percent_no_ed_debt_debt, percent_original_poor, \n",
        "                    percent_ubi_poor, percent_ed_debt_poor,\n",
        "                    original_gap_billions, ubi_gap_billions, ed_debt_gap_billions])"
      ],
      "execution_count": 105,
      "outputs": []
    },
    {
      "cell_type": "code",
      "metadata": {
        "id": "xEaDkZ3q6t7K"
      },
      "source": [
        "def poor_row(row):\n",
        "  return poor_fun(row.original_poor)"
      ],
      "execution_count": 106,
      "outputs": []
    },
    {
      "cell_type": "code",
      "metadata": {
        "id": "CzsGZWeK6z-Z"
      },
      "source": [
        "poor[['ed_debt_change', 'ubi_change', 'percent_better_off_with_ed',\n",
        "        'in_debt', 'in_debt_ubi', 'in_debt_no_ed_debt',\n",
        "        'percent_original_poor', 'percent_ubi_poor', 'percent_ed_debt_poor', \n",
        "     'original_gap_billions', 'ubi_gap_billions', 'ed_debt_gap_billions']] = poor.apply(poor_row, axis=1)"
      ],
      "execution_count": 107,
      "outputs": []
    },
    {
      "cell_type": "markdown",
      "metadata": {
        "id": "IzetN2pBroMk"
      },
      "source": [
        "## Edit Tables"
      ]
    },
    {
      "cell_type": "code",
      "metadata": {
        "id": "38GAXw5BmjhT"
      },
      "source": [
        "education.sort_values(by=['percent_original_poor'], inplace=True,ascending=False)"
      ],
      "execution_count": 108,
      "outputs": []
    },
    {
      "cell_type": "code",
      "metadata": {
        "id": "IziO77HQmlr9"
      },
      "source": [
        "age.sort_values(by=['percent_of_total_debt'], inplace=True, ascending=False)"
      ],
      "execution_count": 109,
      "outputs": []
    },
    {
      "cell_type": "code",
      "metadata": {
        "id": "hoi1VNvGqvNC"
      },
      "source": [
        "poor.sort_values(by=['percent_of_total_debt'], inplace=True, ascending=True)"
      ],
      "execution_count": 110,
      "outputs": []
    },
    {
      "cell_type": "code",
      "metadata": {
        "id": "Oe9L3q6TrqFI"
      },
      "source": [
        "poor['original_poor'] = poor['original_poor'].astype(str)\n",
        "poor['original_poor'].replace({'True': 'In poverty', 'False':'Not in poverty'},inplace=True)"
      ],
      "execution_count": 111,
      "outputs": []
    },
    {
      "cell_type": "code",
      "metadata": {
        "id": "-6Hq4WtI53sh"
      },
      "source": [
        "education[\"edcl\"].replace({\"Less than high school diploma\": [\"Less than high<br>school diploma\"],\n",
        "                           \"High school diploma\": \"High school<br>diploma\",\n",
        "                          \"Some college\": \"Some<br>college\",\n",
        "                          \"College graduate\": \"College<br>graduate\"}, inplace=True)"
      ],
      "execution_count": 112,
      "outputs": []
    },
    {
      "cell_type": "code",
      "metadata": {
        "id": "Y6KGuSMxHfrg"
      },
      "source": [
        "all['index'] = all['index'].replace([0],'All')"
      ],
      "execution_count": 113,
      "outputs": []
    },
    {
      "cell_type": "code",
      "metadata": {
        "id": "dh0CM5pvGuAt"
      },
      "source": [
        "all = all.rename(columns={\"index\": \"race\"})\n",
        "race = pd.concat([race, all])"
      ],
      "execution_count": 114,
      "outputs": []
    },
    {
      "cell_type": "code",
      "metadata": {
        "id": "PM2v4h8OIXIB"
      },
      "source": [
        "all = all.rename(columns={\"race\": \"edcl\"})\n",
        "education = pd.concat([education, all])"
      ],
      "execution_count": 115,
      "outputs": []
    },
    {
      "cell_type": "code",
      "metadata": {
        "id": "yKruiCUkImAN"
      },
      "source": [
        "all = all.rename(columns={\"edcl\": \"income_pp_quintile\"})\n",
        "income = pd.concat([income, all])"
      ],
      "execution_count": 116,
      "outputs": []
    },
    {
      "cell_type": "code",
      "metadata": {
        "id": "O4CmC1dnIwZi"
      },
      "source": [
        "all = all.rename(columns={\"income_pp_quintile\": \"agecl\"})\n",
        "age = pd.concat([age, all])"
      ],
      "execution_count": 117,
      "outputs": []
    },
    {
      "cell_type": "code",
      "metadata": {
        "id": "JoHstCTEI8ww"
      },
      "source": [
        "all = all.rename(columns={\"agecl\": \"networth_pp_quintile2\"})\n",
        "networth = pd.concat([networth, all])"
      ],
      "execution_count": 118,
      "outputs": []
    },
    {
      "cell_type": "code",
      "metadata": {
        "id": "oiRDc8gLJEgQ"
      },
      "source": [
        "all = all.rename(columns={\"networth_pp_quintile2\": \"original_poor\"})\n",
        "poor = pd.concat([poor, all])"
      ],
      "execution_count": 119,
      "outputs": []
    },
    {
      "cell_type": "code",
      "metadata": {
        "id": "MomJZOJ8k-96"
      },
      "source": [
        "race = race.astype({\"ubi_change\":'int', \"ed_debt_change\":'int'})\n",
        "education = education.astype({\"ubi_change\":'int', \"ed_debt_change\":'int'})\n",
        "age = age.astype({\"ubi_change\":'int', \"ed_debt_change\":'int'})\n",
        "income = income.astype({\"ubi_change\":'int', \"ed_debt_change\":'int'})\n",
        "networth = networth.astype({\"ubi_change\":'int', \"ed_debt_change\":'int'})\n",
        "poor = poor.astype({\"ubi_change\":'int', \"ed_debt_change\":'int'})"
      ],
      "execution_count": 120,
      "outputs": []
    },
    {
      "cell_type": "code",
      "metadata": {
        "id": "yD2dc5_nqfdB"
      },
      "source": [
        "race['mean_debt'] = race.apply(lambda x: \"{:,}\".format(x['mean_debt']), axis=1)\n",
        "race['ed_debt_change'] = race.apply(lambda x: \"{:,}\".format(x['ed_debt_change']), axis=1)\n",
        "race['ubi_change'] = race.apply(lambda x: \"{:,}\".format(x['ubi_change']), axis=1)\n",
        "\n",
        "education['mean_debt'] = education.apply(lambda x: \"{:,}\".format(x['mean_debt']), axis=1)\n",
        "education['ed_debt_change'] = education.apply(lambda x: \"{:,}\".format(x['ed_debt_change']), axis=1)\n",
        "education['ubi_change'] = education.apply(lambda x: \"{:,}\".format(x['ubi_change']), axis=1)\n",
        "\n",
        "age['mean_debt'] = age.apply(lambda x: \"{:,}\".format(x['mean_debt']), axis=1)\n",
        "age['ed_debt_change'] = age.apply(lambda x: \"{:,}\".format(x['ed_debt_change']), axis=1)\n",
        "age['ubi_change'] = age.apply(lambda x: \"{:,}\".format(x['ubi_change']), axis=1)\n",
        "\n",
        "income['mean_debt'] = income.apply(lambda x: \"{:,}\".format(x['mean_debt']), axis=1)\n",
        "income['ed_debt_change'] = income.apply(lambda x: \"{:,}\".format(x['ed_debt_change']), axis=1)\n",
        "income['ubi_change'] = income.apply(lambda x: \"{:,}\".format(x['ubi_change']), axis=1)\n",
        "\n",
        "networth['mean_debt'] = networth.apply(lambda x: \"{:,}\".format(x['mean_debt']), axis=1)\n",
        "networth['ed_debt_change'] = networth.apply(lambda x: \"{:,}\".format(x['ed_debt_change']), axis=1)\n",
        "networth['ubi_change'] = networth.apply(lambda x: \"{:,}\".format(x['ubi_change']), axis=1)\n",
        "\n",
        "poor['mean_debt'] = poor.apply(lambda x: \"{:,}\".format(x['mean_debt']), axis=1)\n",
        "poor['ed_debt_change'] = poor.apply(lambda x: \"{:,}\".format(x['ed_debt_change']), axis=1)\n",
        "poor['ubi_change'] = poor.apply(lambda x: \"{:,}\".format(x['ubi_change']), axis=1)"
      ],
      "execution_count": 121,
      "outputs": []
    },
    {
      "cell_type": "code",
      "metadata": {
        "id": "tC3yDFNL8bpt"
      },
      "source": [
        "race.ed_debt_change_50 = race.ed_debt_change_50.astype(int)\n",
        "\n",
        "education.ed_debt_change_50 = education.ed_debt_change_50.astype(int)\n",
        "\n",
        "age.ed_debt_change_50 = age.ed_debt_change_50.astype(int)\n",
        "\n",
        "income.ed_debt_change_50 = income.ed_debt_change_50.astype(int)\n",
        "\n",
        "networth.ed_debt_change_50 = networth.ed_debt_change_50.astype(int)\n",
        "\n",
        "poor.ed_debt_change_50 = poor.ed_debt_change_50.astype(int)\n",
        "\n",
        "race.ubi_change_50 = race.ubi_change_50.astype(int)\n",
        "\n",
        "education.ubi_change_50 = education.ubi_change_50.astype(int)\n",
        "\n",
        "age.ubi_change_50 = age.ubi_change_50.astype(int)\n",
        "\n",
        "income.ubi_change_50 = income.ubi_change_50.astype(int)\n",
        "\n",
        "networth.ubi_change_50 = networth.ubi_change_50.astype(int)\n",
        "\n",
        "poor.ubi_change_50 = poor.ubi_change_50.astype(int)\n",
        "\n",
        "race['ubi_change_50'] = race.apply(lambda x: \"{:,}\".format(x['ubi_change_50']), axis=1)\n",
        "\n",
        "education['ubi_change_50'] = education.apply(lambda x: \"{:,}\".format(x['ubi_change_50']), axis=1)\n",
        "\n",
        "age['ubi_change_50'] = age.apply(lambda x: \"{:,}\".format(x['ubi_change_50']), axis=1)\n",
        "\n",
        "income['ubi_change_50'] = income.apply(lambda x: \"{:,}\".format(x['ubi_change_50']), axis=1)\n",
        "\n",
        "networth['ubi_change_50'] = networth.apply(lambda x: \"{:,}\".format(x['ubi_change_50']), axis=1)\n",
        "\n",
        "poor['ubi_change_50'] = poor.apply(lambda x: \"{:,}\".format(x['ubi_change_50']), axis=1)\n",
        "\n",
        "race['ed_debt_change_50'] = race.apply(lambda x: \"{:,}\".format(x['ed_debt_change_50']), axis=1)\n",
        "\n",
        "education['ed_debt_change_50'] = education.apply(lambda x: \"{:,}\".format(x['ed_debt_change_50']), axis=1)\n",
        "\n",
        "age['ed_debt_change_50'] = age.apply(lambda x: \"{:,}\".format(x['ed_debt_change_50']), axis=1)\n",
        "\n",
        "income['ed_debt_change_50'] = income.apply(lambda x: \"{:,}\".format(x['ed_debt_change_50']), axis=1)\n",
        "\n",
        "networth['ed_debt_change_50'] = networth.apply(lambda x: \"{:,}\".format(x['ed_debt_change_50']), axis=1)\n",
        "\n",
        "poor['ed_debt_change_50'] = poor.apply(lambda x: \"{:,}\".format(x['ed_debt_change_50']), axis=1)"
      ],
      "execution_count": 122,
      "outputs": []
    },
    {
      "cell_type": "code",
      "metadata": {
        "id": "rUDz2cmGhvfH"
      },
      "source": [
        "race.ed_debt_change_10 = race.ed_debt_change_10.astype(int)\n",
        "\n",
        "education.ed_debt_change_10 = education.ed_debt_change_10.astype(int)\n",
        "\n",
        "age.ed_debt_change_10 = age.ed_debt_change_10.astype(int)\n",
        "\n",
        "income.ed_debt_change_10 = income.ed_debt_change_10.astype(int)\n",
        "\n",
        "networth.ed_debt_change_10 = networth.ed_debt_change_10.astype(int)\n",
        "\n",
        "poor.ed_debt_change_10 = poor.ed_debt_change_10.astype(int)\n",
        "\n",
        "race.ubi_change_10 = race.ubi_change_10.astype(int)\n",
        "\n",
        "education.ubi_change_10 = education.ubi_change_10.astype(int)\n",
        "\n",
        "age.ubi_change_10 = age.ubi_change_10.astype(int)\n",
        "\n",
        "income.ubi_change_10 = income.ubi_change_10.astype(int)\n",
        "\n",
        "networth.ubi_change_10 = networth.ubi_change_10.astype(int)\n",
        "\n",
        "poor.ubi_change_10 = poor.ubi_change_10.astype(int)\n",
        "\n",
        "race['ubi_change_10'] = race.apply(lambda x: \"{:,}\".format(x['ubi_change_10']), axis=1)\n",
        "\n",
        "education['ubi_change_10'] = education.apply(lambda x: \"{:,}\".format(x['ubi_change_10']), axis=1)\n",
        "\n",
        "age['ubi_change_10'] = age.apply(lambda x: \"{:,}\".format(x['ubi_change_10']), axis=1)\n",
        "\n",
        "income['ubi_change_10'] = income.apply(lambda x: \"{:,}\".format(x['ubi_change_10']), axis=1)\n",
        "\n",
        "networth['ubi_change_10'] = networth.apply(lambda x: \"{:,}\".format(x['ubi_change_10']), axis=1)\n",
        "\n",
        "poor['ubi_change_10'] = poor.apply(lambda x: \"{:,}\".format(x['ubi_change_10']), axis=1)\n",
        "\n",
        "race['ed_debt_change_10'] = race.apply(lambda x: \"{:,}\".format(x['ed_debt_change_10']), axis=1)\n",
        "\n",
        "education['ed_debt_change_10'] = education.apply(lambda x: \"{:,}\".format(x['ed_debt_change_10']), axis=1)\n",
        "\n",
        "age['ed_debt_change_10'] = age.apply(lambda x: \"{:,}\".format(x['ed_debt_change_10']), axis=1)\n",
        "\n",
        "income['ed_debt_change_10'] = income.apply(lambda x: \"{:,}\".format(x['ed_debt_change_10']), axis=1)\n",
        "\n",
        "networth['ed_debt_change_10'] = networth.apply(lambda x: \"{:,}\".format(x['ed_debt_change_10']), axis=1)\n",
        "\n",
        "poor['ed_debt_change_10'] = poor.apply(lambda x: \"{:,}\".format(x['ed_debt_change_10']), axis=1)"
      ],
      "execution_count": 123,
      "outputs": []
    },
    {
      "cell_type": "markdown",
      "metadata": {
        "id": "Vc7M6mcdBnZ0"
      },
      "source": [
        "## Tables"
      ]
    },
    {
      "cell_type": "code",
      "metadata": {
        "id": "YgSyinxKBsPH"
      },
      "source": [
        "all.to_csv(r'all_debt_ubi')"
      ],
      "execution_count": 124,
      "outputs": []
    },
    {
      "cell_type": "code",
      "metadata": {
        "id": "Fkas0SjEBtSl"
      },
      "source": [
        "race.to_csv(r'race_debt_ubi')"
      ],
      "execution_count": 125,
      "outputs": []
    },
    {
      "cell_type": "code",
      "metadata": {
        "id": "Okbuyss4Bu5X"
      },
      "source": [
        "education.to_csv(r'education_debt_ubi')"
      ],
      "execution_count": 126,
      "outputs": []
    },
    {
      "cell_type": "code",
      "metadata": {
        "id": "XvzSy6scBwEj"
      },
      "source": [
        "income.to_csv(r'income_debt_ubi')"
      ],
      "execution_count": 127,
      "outputs": []
    },
    {
      "cell_type": "code",
      "metadata": {
        "id": "Fum10__qBxHh"
      },
      "source": [
        "age.to_csv(r'age_debt_ubi')"
      ],
      "execution_count": 128,
      "outputs": []
    },
    {
      "cell_type": "code",
      "metadata": {
        "id": "PbBcMjFMBx-6"
      },
      "source": [
        "networth.to_csv(r'networth_debt_ubi')"
      ],
      "execution_count": 129,
      "outputs": []
    },
    {
      "cell_type": "code",
      "metadata": {
        "id": "njl8zgbw64_-"
      },
      "source": [
        "poor.to_csv(r'poor_debt_ubi')"
      ],
      "execution_count": 130,
      "outputs": []
    },
    {
      "cell_type": "markdown",
      "metadata": {
        "id": "2uPf16iyQkHF"
      },
      "source": [
        "## Change in Gini"
      ]
    },
    {
      "cell_type": "code",
      "metadata": {
        "id": "OaIt0NRAQjTF",
        "outputId": "f82041cd-01e2-4614-fb3c-e7a423488a02",
        "colab": {
          "base_uri": "https://localhost:8080/"
        }
      },
      "source": [
        "start_gini = mdf.gini(scf, 'networth_pp', w='wgt_numper')\n",
        "start_gini"
      ],
      "execution_count": 131,
      "outputs": [
        {
          "output_type": "execute_result",
          "data": {
            "text/plain": [
              "0.8580552533769346"
            ]
          },
          "metadata": {
            "tags": []
          },
          "execution_count": 131
        }
      ]
    },
    {
      "cell_type": "code",
      "metadata": {
        "id": "s1i04nEzS_tn",
        "outputId": "0561ea0e-bc3d-4b78-97d2-6533f16705f0",
        "colab": {
          "base_uri": "https://localhost:8080/"
        }
      },
      "source": [
        "ubi_gini = mdf.gini(scf, 'ubi_networth_pp', w='wgt_numper')\n",
        "ubi_gini"
      ],
      "execution_count": 132,
      "outputs": [
        {
          "output_type": "execute_result",
          "data": {
            "text/plain": [
              "0.8482138088314078"
            ]
          },
          "metadata": {
            "tags": []
          },
          "execution_count": 132
        }
      ]
    },
    {
      "cell_type": "code",
      "metadata": {
        "id": "_0olrxUSTE2B",
        "outputId": "d5897638-873f-48c6-8d6d-4f2f92368d78",
        "colab": {
          "base_uri": "https://localhost:8080/"
        }
      },
      "source": [
        "ed_gini = mdf.gini(scf, 'no_debt_networth_pp', w='wgt_numper')\n",
        "ed_gini"
      ],
      "execution_count": 133,
      "outputs": [
        {
          "output_type": "execute_result",
          "data": {
            "text/plain": [
              "0.8444108755674202"
            ]
          },
          "metadata": {
            "tags": []
          },
          "execution_count": 133
        }
      ]
    },
    {
      "cell_type": "code",
      "metadata": {
        "id": "XGdlMo21ILyq",
        "outputId": "6f279d23-2956-4298-8076-f6e44f045ace",
        "colab": {
          "base_uri": "https://localhost:8080/"
        }
      },
      "source": [
        "start_gini_inc = mdf.gini(scf, 'income_pp', w='wgt_numper')\n",
        "start_gini_inc"
      ],
      "execution_count": 134,
      "outputs": [
        {
          "output_type": "execute_result",
          "data": {
            "text/plain": [
              "0.5674710044436"
            ]
          },
          "metadata": {
            "tags": []
          },
          "execution_count": 134
        }
      ]
    },
    {
      "cell_type": "code",
      "metadata": {
        "id": "JJZmuetPAxme",
        "outputId": "61ce1dae-6a44-419c-e94c-b81c7d77d6cd",
        "colab": {
          "base_uri": "https://localhost:8080/"
        }
      },
      "source": [
        "ubi_gini_inc = mdf.gini(scf, 'ubi_income_pp', w='wgt_numper')\n",
        "ubi_gini_inc"
      ],
      "execution_count": 135,
      "outputs": [
        {
          "output_type": "execute_result",
          "data": {
            "text/plain": [
              "0.5246819551763151"
            ]
          },
          "metadata": {
            "tags": []
          },
          "execution_count": 135
        }
      ]
    },
    {
      "cell_type": "code",
      "metadata": {
        "id": "sdewWGPEA2LL",
        "outputId": "8d7e1636-d793-417a-9bcd-0186d06f6c52",
        "colab": {
          "base_uri": "https://localhost:8080/"
        }
      },
      "source": [
        "no_debt_gini_inc = mdf.gini(scf, 'no_debt_income_pp', w='wgt_numper')\n",
        "no_debt_gini_inc"
      ],
      "execution_count": 136,
      "outputs": [
        {
          "output_type": "execute_result",
          "data": {
            "text/plain": [
              "0.5588274060412531"
            ]
          },
          "metadata": {
            "tags": []
          },
          "execution_count": 136
        }
      ]
    },
    {
      "cell_type": "code",
      "metadata": {
        "id": "h_oxevYv4-EB",
        "outputId": "261ca005-9eef-41ae-fbb1-19fb3b003058",
        "colab": {
          "base_uri": "https://localhost:8080/",
          "height": 243
        }
      },
      "source": [
        "networth"
      ],
      "execution_count": 137,
      "outputs": [
        {
          "output_type": "execute_result",
          "data": {
            "text/html": [
              "<div>\n",
              "<style scoped>\n",
              "    .dataframe tbody tr th:only-of-type {\n",
              "        vertical-align: middle;\n",
              "    }\n",
              "\n",
              "    .dataframe tbody tr th {\n",
              "        vertical-align: top;\n",
              "    }\n",
              "\n",
              "    .dataframe thead th {\n",
              "        text-align: right;\n",
              "    }\n",
              "</style>\n",
              "<table border=\"1\" class=\"dataframe\">\n",
              "  <thead>\n",
              "    <tr style=\"text-align: right;\">\n",
              "      <th></th>\n",
              "      <th>networth_pp_quintile2</th>\n",
              "      <th>mean_debt</th>\n",
              "      <th>has_debt</th>\n",
              "      <th>population</th>\n",
              "      <th>total_debt_held</th>\n",
              "      <th>percent_has_debt</th>\n",
              "      <th>percent_of_total_debt</th>\n",
              "      <th>percent_pop</th>\n",
              "      <th>ratio</th>\n",
              "      <th>ed_debt_change_50</th>\n",
              "      <th>ubi_change_50</th>\n",
              "      <th>percent_better_off_with_ed_50</th>\n",
              "      <th>in_debt_50</th>\n",
              "      <th>in_debt_ubi_50</th>\n",
              "      <th>in_debt_no_ed_debt_50</th>\n",
              "      <th>percent_ubi_poor_50</th>\n",
              "      <th>percent_ed_debt_poor_50</th>\n",
              "      <th>ubi_gap_billions_50</th>\n",
              "      <th>ed_debt_gap_billions_50</th>\n",
              "      <th>ed_debt_change_10</th>\n",
              "      <th>ubi_change_10</th>\n",
              "      <th>percent_better_off_with_ed_10</th>\n",
              "      <th>in_debt_10</th>\n",
              "      <th>in_debt_ubi_10</th>\n",
              "      <th>in_debt_no_ed_debt_10</th>\n",
              "      <th>percent_ubi_poor_10</th>\n",
              "      <th>percent_ed_debt_poor_10</th>\n",
              "      <th>ubi_gap_billions_10</th>\n",
              "      <th>ed_debt_gap_billions_10</th>\n",
              "      <th>ed_debt_change</th>\n",
              "      <th>ubi_change</th>\n",
              "      <th>percent_better_off_with_ed</th>\n",
              "      <th>in_debt</th>\n",
              "      <th>in_debt_ubi</th>\n",
              "      <th>in_debt_no_ed_debt</th>\n",
              "      <th>percent_original_poor</th>\n",
              "      <th>percent_ubi_poor</th>\n",
              "      <th>percent_ed_debt_poor</th>\n",
              "      <th>original_gap_billions</th>\n",
              "      <th>ubi_gap_billions</th>\n",
              "      <th>ed_debt_gap_billions</th>\n",
              "    </tr>\n",
              "  </thead>\n",
              "  <tbody>\n",
              "    <tr>\n",
              "      <th>0</th>\n",
              "      <td>0-20</td>\n",
              "      <td>10,124</td>\n",
              "      <td>2.533623e+07</td>\n",
              "      <td>6.099631e+07</td>\n",
              "      <td>6.175778e+11</td>\n",
              "      <td>41.5</td>\n",
              "      <td>0.554035</td>\n",
              "      <td>0.199996</td>\n",
              "      <td>2.77</td>\n",
              "      <td>5,586</td>\n",
              "      <td>2,337</td>\n",
              "      <td>35.0</td>\n",
              "      <td>49.0</td>\n",
              "      <td>30.2</td>\n",
              "      <td>20.1</td>\n",
              "      <td>13.3</td>\n",
              "      <td>23.2</td>\n",
              "      <td>38.1</td>\n",
              "      <td>114.7</td>\n",
              "      <td>1,618</td>\n",
              "      <td>771</td>\n",
              "      <td>38.9</td>\n",
              "      <td>49.0</td>\n",
              "      <td>30.2</td>\n",
              "      <td>20.1</td>\n",
              "      <td>23.0</td>\n",
              "      <td>24.0</td>\n",
              "      <td>92.8</td>\n",
              "      <td>117.4</td>\n",
              "      <td>10,124</td>\n",
              "      <td>3,654</td>\n",
              "      <td>32.1</td>\n",
              "      <td>49.0</td>\n",
              "      <td>30.2</td>\n",
              "      <td>20.1</td>\n",
              "      <td>27.9</td>\n",
              "      <td>6.9</td>\n",
              "      <td>23.2</td>\n",
              "      <td>136.2</td>\n",
              "      <td>15.0</td>\n",
              "      <td>114.7</td>\n",
              "    </tr>\n",
              "    <tr>\n",
              "      <th>1</th>\n",
              "      <td>20-40</td>\n",
              "      <td>2,042</td>\n",
              "      <td>1.649594e+07</td>\n",
              "      <td>6.099471e+07</td>\n",
              "      <td>1.245606e+11</td>\n",
              "      <td>27.0</td>\n",
              "      <td>0.111745</td>\n",
              "      <td>0.199990</td>\n",
              "      <td>0.56</td>\n",
              "      <td>1,680</td>\n",
              "      <td>2,337</td>\n",
              "      <td>17.1</td>\n",
              "      <td>0.0</td>\n",
              "      <td>0.0</td>\n",
              "      <td>0.0</td>\n",
              "      <td>5.0</td>\n",
              "      <td>10.2</td>\n",
              "      <td>13.9</td>\n",
              "      <td>41.2</td>\n",
              "      <td>653</td>\n",
              "      <td>771</td>\n",
              "      <td>23.4</td>\n",
              "      <td>0.0</td>\n",
              "      <td>0.0</td>\n",
              "      <td>0.0</td>\n",
              "      <td>9.8</td>\n",
              "      <td>11.0</td>\n",
              "      <td>34.8</td>\n",
              "      <td>43.3</td>\n",
              "      <td>2,042</td>\n",
              "      <td>3,654</td>\n",
              "      <td>14.9</td>\n",
              "      <td>0.0</td>\n",
              "      <td>0.0</td>\n",
              "      <td>0.0</td>\n",
              "      <td>12.1</td>\n",
              "      <td>2.7</td>\n",
              "      <td>10.2</td>\n",
              "      <td>52.6</td>\n",
              "      <td>5.8</td>\n",
              "      <td>41.2</td>\n",
              "    </tr>\n",
              "    <tr>\n",
              "      <th>2</th>\n",
              "      <td>40-60</td>\n",
              "      <td>2,418</td>\n",
              "      <td>1.606503e+07</td>\n",
              "      <td>6.098782e+07</td>\n",
              "      <td>1.474932e+11</td>\n",
              "      <td>26.3</td>\n",
              "      <td>0.132318</td>\n",
              "      <td>0.199968</td>\n",
              "      <td>0.66</td>\n",
              "      <td>1,889</td>\n",
              "      <td>2,337</td>\n",
              "      <td>18.0</td>\n",
              "      <td>0.0</td>\n",
              "      <td>0.0</td>\n",
              "      <td>0.0</td>\n",
              "      <td>2.9</td>\n",
              "      <td>4.3</td>\n",
              "      <td>7.6</td>\n",
              "      <td>18.5</td>\n",
              "      <td>715</td>\n",
              "      <td>771</td>\n",
              "      <td>25.1</td>\n",
              "      <td>0.0</td>\n",
              "      <td>0.0</td>\n",
              "      <td>0.0</td>\n",
              "      <td>4.4</td>\n",
              "      <td>4.3</td>\n",
              "      <td>15.2</td>\n",
              "      <td>18.5</td>\n",
              "      <td>2,418</td>\n",
              "      <td>3,654</td>\n",
              "      <td>14.8</td>\n",
              "      <td>0.0</td>\n",
              "      <td>0.0</td>\n",
              "      <td>0.0</td>\n",
              "      <td>5.0</td>\n",
              "      <td>1.7</td>\n",
              "      <td>4.3</td>\n",
              "      <td>20.1</td>\n",
              "      <td>3.8</td>\n",
              "      <td>18.5</td>\n",
              "    </tr>\n",
              "    <tr>\n",
              "      <th>3</th>\n",
              "      <td>60-80</td>\n",
              "      <td>2,229</td>\n",
              "      <td>1.114570e+07</td>\n",
              "      <td>6.099198e+07</td>\n",
              "      <td>1.359943e+11</td>\n",
              "      <td>18.3</td>\n",
              "      <td>0.122002</td>\n",
              "      <td>0.199981</td>\n",
              "      <td>0.61</td>\n",
              "      <td>1,583</td>\n",
              "      <td>2,337</td>\n",
              "      <td>12.9</td>\n",
              "      <td>0.0</td>\n",
              "      <td>0.0</td>\n",
              "      <td>0.0</td>\n",
              "      <td>1.8</td>\n",
              "      <td>3.8</td>\n",
              "      <td>7.2</td>\n",
              "      <td>16.1</td>\n",
              "      <td>549</td>\n",
              "      <td>771</td>\n",
              "      <td>16.4</td>\n",
              "      <td>0.0</td>\n",
              "      <td>0.0</td>\n",
              "      <td>0.0</td>\n",
              "      <td>3.4</td>\n",
              "      <td>3.8</td>\n",
              "      <td>12.7</td>\n",
              "      <td>16.1</td>\n",
              "      <td>2,229</td>\n",
              "      <td>3,654</td>\n",
              "      <td>11.2</td>\n",
              "      <td>0.0</td>\n",
              "      <td>0.0</td>\n",
              "      <td>0.0</td>\n",
              "      <td>3.9</td>\n",
              "      <td>1.4</td>\n",
              "      <td>3.8</td>\n",
              "      <td>17.2</td>\n",
              "      <td>4.6</td>\n",
              "      <td>16.1</td>\n",
              "    </tr>\n",
              "    <tr>\n",
              "      <th>4</th>\n",
              "      <td>80-100</td>\n",
              "      <td>1,459</td>\n",
              "      <td>5.613266e+06</td>\n",
              "      <td>6.101745e+07</td>\n",
              "      <td>8.906459e+10</td>\n",
              "      <td>9.2</td>\n",
              "      <td>0.079901</td>\n",
              "      <td>0.200065</td>\n",
              "      <td>0.40</td>\n",
              "      <td>948</td>\n",
              "      <td>2,337</td>\n",
              "      <td>7.4</td>\n",
              "      <td>0.0</td>\n",
              "      <td>0.0</td>\n",
              "      <td>0.0</td>\n",
              "      <td>1.1</td>\n",
              "      <td>1.3</td>\n",
              "      <td>6.3</td>\n",
              "      <td>9.5</td>\n",
              "      <td>319</td>\n",
              "      <td>771</td>\n",
              "      <td>8.9</td>\n",
              "      <td>0.0</td>\n",
              "      <td>0.0</td>\n",
              "      <td>0.0</td>\n",
              "      <td>1.3</td>\n",
              "      <td>1.3</td>\n",
              "      <td>8.4</td>\n",
              "      <td>9.5</td>\n",
              "      <td>1,459</td>\n",
              "      <td>3,654</td>\n",
              "      <td>6.4</td>\n",
              "      <td>0.0</td>\n",
              "      <td>0.0</td>\n",
              "      <td>0.0</td>\n",
              "      <td>1.3</td>\n",
              "      <td>1.0</td>\n",
              "      <td>1.3</td>\n",
              "      <td>9.5</td>\n",
              "      <td>4.6</td>\n",
              "      <td>9.5</td>\n",
              "    </tr>\n",
              "    <tr>\n",
              "      <th>0</th>\n",
              "      <td>All</td>\n",
              "      <td>3,654</td>\n",
              "      <td>7.465616e+07</td>\n",
              "      <td>3.049883e+08</td>\n",
              "      <td>1.114690e+12</td>\n",
              "      <td>24.5</td>\n",
              "      <td>1.000000</td>\n",
              "      <td>1.000000</td>\n",
              "      <td>1.00</td>\n",
              "      <td>2,337</td>\n",
              "      <td>2,337</td>\n",
              "      <td>18.1</td>\n",
              "      <td>9.8</td>\n",
              "      <td>6.0</td>\n",
              "      <td>4.0</td>\n",
              "      <td>4.8</td>\n",
              "      <td>8.6</td>\n",
              "      <td>73.0</td>\n",
              "      <td>200.0</td>\n",
              "      <td>771</td>\n",
              "      <td>771</td>\n",
              "      <td>22.5</td>\n",
              "      <td>9.8</td>\n",
              "      <td>6.0</td>\n",
              "      <td>4.0</td>\n",
              "      <td>8.4</td>\n",
              "      <td>8.9</td>\n",
              "      <td>163.8</td>\n",
              "      <td>204.8</td>\n",
              "      <td>3,654</td>\n",
              "      <td>3,654</td>\n",
              "      <td>15.9</td>\n",
              "      <td>9.8</td>\n",
              "      <td>6.0</td>\n",
              "      <td>4.0</td>\n",
              "      <td>10.0</td>\n",
              "      <td>2.7</td>\n",
              "      <td>8.6</td>\n",
              "      <td>235.5</td>\n",
              "      <td>33.8</td>\n",
              "      <td>200.0</td>\n",
              "    </tr>\n",
              "  </tbody>\n",
              "</table>\n",
              "</div>"
            ],
            "text/plain": [
              "  networth_pp_quintile2 mean_debt  ...  ubi_gap_billions  ed_debt_gap_billions\n",
              "0                  0-20    10,124  ...              15.0                 114.7\n",
              "1                 20-40     2,042  ...               5.8                  41.2\n",
              "2                 40-60     2,418  ...               3.8                  18.5\n",
              "3                 60-80     2,229  ...               4.6                  16.1\n",
              "4                80-100     1,459  ...               4.6                   9.5\n",
              "0                   All     3,654  ...              33.8                 200.0\n",
              "\n",
              "[6 rows x 41 columns]"
            ]
          },
          "metadata": {
            "tags": []
          },
          "execution_count": 137
        }
      ]
    },
    {
      "cell_type": "code",
      "metadata": {
        "id": "zCQelE-0iWIS"
      },
      "source": [
        "race"
      ],
      "execution_count": null,
      "outputs": []
    }
  ]
}